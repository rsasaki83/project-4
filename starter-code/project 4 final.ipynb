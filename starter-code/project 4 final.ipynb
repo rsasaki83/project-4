{
 "cells": [
  {
   "cell_type": "markdown",
   "metadata": {},
   "source": [
    "### The problem is to see what kind of correlation there is between the salary and the title of the job. I also went ahead and looked to see if there was correlation between the city that the job is in and the salary."
   ]
  },
  {
   "cell_type": "markdown",
   "metadata": {},
   "source": [
    "# By title"
   ]
  },
  {
   "cell_type": "code",
   "execution_count": 159,
   "metadata": {
    "collapsed": true
   },
   "outputs": [],
   "source": [
    "import pandas as pd\n",
    "indeed_df=pd.read_csv('../assets/indeed-scraped-job-postings.csv')"
   ]
  },
  {
   "cell_type": "code",
   "execution_count": 160,
   "metadata": {
    "collapsed": false
   },
   "outputs": [
    {
     "data": {
      "text/html": [
       "<div>\n",
       "<table border=\"1\" class=\"dataframe\">\n",
       "  <thead>\n",
       "    <tr style=\"text-align: right;\">\n",
       "      <th></th>\n",
       "      <th>city</th>\n",
       "      <th>company</th>\n",
       "      <th>salary</th>\n",
       "      <th>summary</th>\n",
       "      <th>title</th>\n",
       "      <th>parsed_salary</th>\n",
       "    </tr>\n",
       "  </thead>\n",
       "  <tbody>\n",
       "    <tr>\n",
       "      <th>0</th>\n",
       "      <td>Denver</td>\n",
       "      <td>Department Of The Interior</td>\n",
       "      <td>$76,341 - $99,243 a year</td>\n",
       "      <td>Would you like to join the more than 10,000 sc...</td>\n",
       "      <td>Statistician, GS-1350-12 (DEU-PERM-DS)</td>\n",
       "      <td>87792.0</td>\n",
       "    </tr>\n",
       "    <tr>\n",
       "      <th>1</th>\n",
       "      <td>Denver</td>\n",
       "      <td>Department Of The Interior</td>\n",
       "      <td>$71,012 - $99,243 a year</td>\n",
       "      <td>Investigate potential uses of geospatial data ...</td>\n",
       "      <td>Interdisciplinary Cartographer/Geographer - GS...</td>\n",
       "      <td>85127.5</td>\n",
       "    </tr>\n",
       "    <tr>\n",
       "      <th>2</th>\n",
       "      <td>Denver</td>\n",
       "      <td>Mental Health Center of Denver</td>\n",
       "      <td>$70,000 - $80,000 a year</td>\n",
       "      <td>Advise the Data Developer with regard to creat...</td>\n",
       "      <td>Financial Data Scientist</td>\n",
       "      <td>75000.0</td>\n",
       "    </tr>\n",
       "    <tr>\n",
       "      <th>3</th>\n",
       "      <td>Denver</td>\n",
       "      <td>Denver Public Schools</td>\n",
       "      <td>$62,712 - $75,255 a year</td>\n",
       "      <td>Portal managers on student outcome data report...</td>\n",
       "      <td>SENIOR RESEARCH ANALYST</td>\n",
       "      <td>68983.5</td>\n",
       "    </tr>\n",
       "    <tr>\n",
       "      <th>4</th>\n",
       "      <td>Denver</td>\n",
       "      <td>University of Colorado</td>\n",
       "      <td>$25,000 - $29,000 a year</td>\n",
       "      <td>Experience entering and manipulating data in a...</td>\n",
       "      <td>Animal Care I</td>\n",
       "      <td>27000.0</td>\n",
       "    </tr>\n",
       "  </tbody>\n",
       "</table>\n",
       "</div>"
      ],
      "text/plain": [
       "     city                         company                    salary  \\\n",
       "0  Denver      Department Of The Interior  $76,341 - $99,243 a year   \n",
       "1  Denver      Department Of The Interior  $71,012 - $99,243 a year   \n",
       "2  Denver  Mental Health Center of Denver  $70,000 - $80,000 a year   \n",
       "3  Denver           Denver Public Schools  $62,712 - $75,255 a year   \n",
       "4  Denver          University of Colorado  $25,000 - $29,000 a year   \n",
       "\n",
       "                                             summary  \\\n",
       "0  Would you like to join the more than 10,000 sc...   \n",
       "1  Investigate potential uses of geospatial data ...   \n",
       "2  Advise the Data Developer with regard to creat...   \n",
       "3  Portal managers on student outcome data report...   \n",
       "4  Experience entering and manipulating data in a...   \n",
       "\n",
       "                                               title  parsed_salary  \n",
       "0             Statistician, GS-1350-12 (DEU-PERM-DS)        87792.0  \n",
       "1  Interdisciplinary Cartographer/Geographer - GS...        85127.5  \n",
       "2                           Financial Data Scientist        75000.0  \n",
       "3                            SENIOR RESEARCH ANALYST        68983.5  \n",
       "4                                      Animal Care I        27000.0  "
      ]
     },
     "execution_count": 160,
     "metadata": {},
     "output_type": "execute_result"
    }
   ],
   "source": [
    "indeed_df.head()"
   ]
  },
  {
   "cell_type": "code",
   "execution_count": 161,
   "metadata": {
    "collapsed": true
   },
   "outputs": [
    {
     "data": {
      "text/plain": [
       "<bound method Series.median of 0       87792.0\n",
       "1       85127.5\n",
       "2       75000.0\n",
       "3       68983.5\n",
       "4       27000.0\n",
       "5       93645.0\n",
       "6       66654.0\n",
       "7       66654.0\n",
       "8       77500.0\n",
       "9      130000.0\n",
       "10      85000.0\n",
       "11      55733.5\n",
       "12      43500.0\n",
       "13      44250.0\n",
       "14     105000.0\n",
       "15      47500.0\n",
       "16     170000.0\n",
       "17     140000.0\n",
       "18     150000.0\n",
       "19      85000.0\n",
       "20      35000.0\n",
       "21     160000.0\n",
       "22      41000.0\n",
       "23      65000.0\n",
       "24     120000.0\n",
       "25     135000.0\n",
       "26      82500.0\n",
       "27     140000.0\n",
       "28     190000.0\n",
       "29     120000.0\n",
       "         ...   \n",
       "383     74550.0\n",
       "384    180000.0\n",
       "385    227500.0\n",
       "386    125000.0\n",
       "387    140000.0\n",
       "388     85000.0\n",
       "389         NaN\n",
       "390    200000.0\n",
       "391    175000.0\n",
       "392    180000.0\n",
       "393    180000.0\n",
       "394    100000.0\n",
       "395     41000.0\n",
       "396     79247.0\n",
       "397    141158.0\n",
       "398     33400.0\n",
       "399     94531.0\n",
       "400     50794.0\n",
       "401     56200.0\n",
       "402     52300.0\n",
       "403    160000.0\n",
       "404    212500.0\n",
       "405    120000.0\n",
       "406     54182.0\n",
       "407     87500.0\n",
       "408     55000.0\n",
       "409     80000.0\n",
       "410     87500.0\n",
       "411     80000.0\n",
       "412     34999.5\n",
       "Name: parsed_salary, dtype: float64>"
      ]
     },
     "execution_count": 161,
     "metadata": {},
     "output_type": "execute_result"
    }
   ],
   "source": [
    "indeed_df['parsed_salary'].median  #deterimines whether the salary is good or bad"
   ]
  },
  {
   "cell_type": "code",
   "execution_count": 162,
   "metadata": {
    "collapsed": true
   },
   "outputs": [],
   "source": [
    "indeed_df['good_salary']=(indeed_df['parsed_salary']>= 87792.0)"
   ]
  },
  {
   "cell_type": "code",
   "execution_count": 163,
   "metadata": {
    "collapsed": false
   },
   "outputs": [],
   "source": [
    "indeed_df2=pd.get_dummies(indeed_df['good_salary'], prefix='good_salary')\n",
    "indeed_df3=indeed_df.join(indeed_df2)\n",
    "indeed_df=indeed_df3"
   ]
  },
  {
   "cell_type": "code",
   "execution_count": 164,
   "metadata": {
    "collapsed": true
   },
   "outputs": [
    {
     "data": {
      "text/html": [
       "<div>\n",
       "<table border=\"1\" class=\"dataframe\">\n",
       "  <thead>\n",
       "    <tr style=\"text-align: right;\">\n",
       "      <th></th>\n",
       "      <th>city</th>\n",
       "      <th>company</th>\n",
       "      <th>salary</th>\n",
       "      <th>summary</th>\n",
       "      <th>title</th>\n",
       "      <th>parsed_salary</th>\n",
       "      <th>good_salary</th>\n",
       "      <th>good_salary_False</th>\n",
       "      <th>good_salary_True</th>\n",
       "    </tr>\n",
       "  </thead>\n",
       "  <tbody>\n",
       "    <tr>\n",
       "      <th>0</th>\n",
       "      <td>Denver</td>\n",
       "      <td>Department Of The Interior</td>\n",
       "      <td>$76,341 - $99,243 a year</td>\n",
       "      <td>Would you like to join the more than 10,000 sc...</td>\n",
       "      <td>Statistician, GS-1350-12 (DEU-PERM-DS)</td>\n",
       "      <td>87792.0</td>\n",
       "      <td>True</td>\n",
       "      <td>0.0</td>\n",
       "      <td>1.0</td>\n",
       "    </tr>\n",
       "    <tr>\n",
       "      <th>1</th>\n",
       "      <td>Denver</td>\n",
       "      <td>Department Of The Interior</td>\n",
       "      <td>$71,012 - $99,243 a year</td>\n",
       "      <td>Investigate potential uses of geospatial data ...</td>\n",
       "      <td>Interdisciplinary Cartographer/Geographer - GS...</td>\n",
       "      <td>85127.5</td>\n",
       "      <td>False</td>\n",
       "      <td>1.0</td>\n",
       "      <td>0.0</td>\n",
       "    </tr>\n",
       "    <tr>\n",
       "      <th>2</th>\n",
       "      <td>Denver</td>\n",
       "      <td>Mental Health Center of Denver</td>\n",
       "      <td>$70,000 - $80,000 a year</td>\n",
       "      <td>Advise the Data Developer with regard to creat...</td>\n",
       "      <td>Financial Data Scientist</td>\n",
       "      <td>75000.0</td>\n",
       "      <td>False</td>\n",
       "      <td>1.0</td>\n",
       "      <td>0.0</td>\n",
       "    </tr>\n",
       "    <tr>\n",
       "      <th>3</th>\n",
       "      <td>Denver</td>\n",
       "      <td>Denver Public Schools</td>\n",
       "      <td>$62,712 - $75,255 a year</td>\n",
       "      <td>Portal managers on student outcome data report...</td>\n",
       "      <td>SENIOR RESEARCH ANALYST</td>\n",
       "      <td>68983.5</td>\n",
       "      <td>False</td>\n",
       "      <td>1.0</td>\n",
       "      <td>0.0</td>\n",
       "    </tr>\n",
       "    <tr>\n",
       "      <th>4</th>\n",
       "      <td>Denver</td>\n",
       "      <td>University of Colorado</td>\n",
       "      <td>$25,000 - $29,000 a year</td>\n",
       "      <td>Experience entering and manipulating data in a...</td>\n",
       "      <td>Animal Care I</td>\n",
       "      <td>27000.0</td>\n",
       "      <td>False</td>\n",
       "      <td>1.0</td>\n",
       "      <td>0.0</td>\n",
       "    </tr>\n",
       "  </tbody>\n",
       "</table>\n",
       "</div>"
      ],
      "text/plain": [
       "     city                         company                    salary  \\\n",
       "0  Denver      Department Of The Interior  $76,341 - $99,243 a year   \n",
       "1  Denver      Department Of The Interior  $71,012 - $99,243 a year   \n",
       "2  Denver  Mental Health Center of Denver  $70,000 - $80,000 a year   \n",
       "3  Denver           Denver Public Schools  $62,712 - $75,255 a year   \n",
       "4  Denver          University of Colorado  $25,000 - $29,000 a year   \n",
       "\n",
       "                                             summary  \\\n",
       "0  Would you like to join the more than 10,000 sc...   \n",
       "1  Investigate potential uses of geospatial data ...   \n",
       "2  Advise the Data Developer with regard to creat...   \n",
       "3  Portal managers on student outcome data report...   \n",
       "4  Experience entering and manipulating data in a...   \n",
       "\n",
       "                                               title  parsed_salary  \\\n",
       "0             Statistician, GS-1350-12 (DEU-PERM-DS)        87792.0   \n",
       "1  Interdisciplinary Cartographer/Geographer - GS...        85127.5   \n",
       "2                           Financial Data Scientist        75000.0   \n",
       "3                            SENIOR RESEARCH ANALYST        68983.5   \n",
       "4                                      Animal Care I        27000.0   \n",
       "\n",
       "  good_salary  good_salary_False  good_salary_True  \n",
       "0        True                0.0               1.0  \n",
       "1       False                1.0               0.0  \n",
       "2       False                1.0               0.0  \n",
       "3       False                1.0               0.0  \n",
       "4       False                1.0               0.0  "
      ]
     },
     "execution_count": 164,
     "metadata": {},
     "output_type": "execute_result"
    }
   ],
   "source": [
    "indeed_df.head()"
   ]
  },
  {
   "cell_type": "code",
   "execution_count": 165,
   "metadata": {
    "collapsed": true
   },
   "outputs": [],
   "source": [
    "indeed_df.dropna(inplace=True)"
   ]
  },
  {
   "cell_type": "code",
   "execution_count": 166,
   "metadata": {
    "collapsed": true
   },
   "outputs": [
    {
     "name": "stderr",
     "output_type": "stream",
     "text": [
      "/Users/russellsasaki/anaconda/lib/python2.7/site-packages/ipykernel/__main__.py:2: UnicodeWarning: Unicode equal comparison failed to convert both arguments to Unicode - interpreting them as being unequal\n",
      "  from ipykernel import kernelapp as app\n"
     ]
    },
    {
     "data": {
      "text/plain": [
       "0                 Statistician, GS-1350-12 (DEU-PERM-DS)\n",
       "1      Interdisciplinary Cartographer/Geographer - GS...\n",
       "2                               Financial Data Scientist\n",
       "3                                SENIOR RESEARCH ANALYST\n",
       "4                                          Animal Care I\n",
       "5                  Assistant Research Scientist - RADARS\n",
       "6                        Statistical Research Specialist\n",
       "7                Statistical Research Scientist - RADARS\n",
       "8                        Regulatory & Compliance Manager\n",
       "9                       Software Engineer/Data Scientist\n",
       "10     Global Marketing Manager - Ingredient and Scho...\n",
       "11             Geologist GS-1350-07/09 (DEU - TERM - JG)\n",
       "12        Professional Research Assistant - Data Manager\n",
       "13     Professional Research Assistant - Tissue Bank ...\n",
       "14       Platform Developer/Geospatial Big Data (Python)\n",
       "15     Professional Research Assistant - Clinical Res...\n",
       "16                                       DevOps Engineer\n",
       "17                  Data Scientist Programmer/Specialist\n",
       "18                   Senior Deep Learning Data Scientist\n",
       "19     Robotics software engineer (involves machine l...\n",
       "20                        Research Analyst/Customer Serv\n",
       "21                                        Data Scientist\n",
       "22                International Environmental Specialist\n",
       "23     Research Analyst (excel, analysis, client-facing)\n",
       "24                 Data Scientist (Software Engineering)\n",
       "25                                 Data Science Engineer\n",
       "26                                     BI/Data Architect\n",
       "27      Software Development Engineer (Machine Learning)\n",
       "28                                Digital Data Scientist\n",
       "29            Sr. Data Scientist, Compensation Analytics\n",
       "                             ...                        \n",
       "382                                Head of Data Sciences\n",
       "383                          Database Administrator, GSE\n",
       "384             Staff Engineer, Machine Learning (Scala)\n",
       "385    Vice President Engineering (Big Data/ Machine ...\n",
       "386                                          QA Engineer\n",
       "387           Equity Research Analyst - US Energy Stocks\n",
       "388                                   Billing Specialist\n",
       "390                                       Java Developer\n",
       "391                   Director of Data Science (Mapping)\n",
       "392                                      Erlang Engineer\n",
       "393                              Data Operations Manager\n",
       "394                                 Data Scientist / SQL\n",
       "395                             Statistical Data Analyst\n",
       "396                                     Health Scientist\n",
       "397                         Supervisory Health Scientist\n",
       "398                                  Research Specialist\n",
       "399    Interdisciplinary Health Scientist/ Behavioral...\n",
       "400                              Market Research Analyst\n",
       "401                           Asc Dir, Research Projects\n",
       "402                Research Financial Analyst (Dept/Sch)\n",
       "403                                     Director of Data\n",
       "404    Statistical Credit Risk Modeler | Top Performi...\n",
       "405                     C++ Developer / Machine Learning\n",
       "406                           Associate Research Analyst\n",
       "407                Research Statistician - Payment Cards\n",
       "408                 Real Estate / Title Research Analyst\n",
       "409          Audit Snr (Banking) - Data Analysis 60K-80K\n",
       "410                               Marketing Statistician\n",
       "411                                      DevOps Engineer\n",
       "412     School Business Manager and Human Resources (HR)\n",
       "Name: title, dtype: object"
      ]
     },
     "execution_count": 166,
     "metadata": {},
     "output_type": "execute_result"
    }
   ],
   "source": [
    "from stop_words import get_stop_words\n",
    "indeed_df['title'] = [word for word in indeed_df['title'] if word not in get_stop_words('en')]\n",
    "indeed_df['title']"
   ]
  },
  {
   "cell_type": "code",
   "execution_count": 167,
   "metadata": {
    "collapsed": true
   },
   "outputs": [],
   "source": [
    "cat_vars=['title']\n",
    "for var in cat_vars:\n",
    "   cat_list='var'+'_'+var\n",
    "   cat_list = pd.get_dummies(indeed_df[var], prefix=var)\n",
    "   indeed_df5=indeed_df.join(cat_list)\n",
    "   indeed_df=indeed_df5"
   ]
  },
  {
   "cell_type": "code",
   "execution_count": 168,
   "metadata": {
    "collapsed": true
   },
   "outputs": [
    {
     "data": {
      "text/html": [
       "<div>\n",
       "<table border=\"1\" class=\"dataframe\">\n",
       "  <thead>\n",
       "    <tr style=\"text-align: right;\">\n",
       "      <th></th>\n",
       "      <th>city</th>\n",
       "      <th>company</th>\n",
       "      <th>salary</th>\n",
       "      <th>summary</th>\n",
       "      <th>title</th>\n",
       "      <th>parsed_salary</th>\n",
       "      <th>good_salary</th>\n",
       "      <th>good_salary_False</th>\n",
       "      <th>good_salary_True</th>\n",
       "      <th>title_(Per-Diem) Research Analyst</th>\n",
       "      <th>...</th>\n",
       "      <th>title_Technical Service Engineer</th>\n",
       "      <th>title_Trace Organics - Environmental Lab Scientist II</th>\n",
       "      <th>title_VP - Predictive Modeling / Data Scientist</th>\n",
       "      <th>title_VP - Predictive Modeling Actuary</th>\n",
       "      <th>title_VP Data Scientist</th>\n",
       "      <th>title_VP of Data Services</th>\n",
       "      <th>title_Vice President Engineering (Big Data/ Machine Learning)</th>\n",
       "      <th>title_Water Quality Modeler</th>\n",
       "      <th>title_Water Resources Analyst</th>\n",
       "      <th>title_Web Security Research Analyst</th>\n",
       "    </tr>\n",
       "  </thead>\n",
       "  <tbody>\n",
       "    <tr>\n",
       "      <th>0</th>\n",
       "      <td>Denver</td>\n",
       "      <td>Department Of The Interior</td>\n",
       "      <td>$76,341 - $99,243 a year</td>\n",
       "      <td>Would you like to join the more than 10,000 sc...</td>\n",
       "      <td>Statistician, GS-1350-12 (DEU-PERM-DS)</td>\n",
       "      <td>87792.0</td>\n",
       "      <td>True</td>\n",
       "      <td>0.0</td>\n",
       "      <td>1.0</td>\n",
       "      <td>0.0</td>\n",
       "      <td>...</td>\n",
       "      <td>0.0</td>\n",
       "      <td>0.0</td>\n",
       "      <td>0.0</td>\n",
       "      <td>0.0</td>\n",
       "      <td>0.0</td>\n",
       "      <td>0.0</td>\n",
       "      <td>0.0</td>\n",
       "      <td>0.0</td>\n",
       "      <td>0.0</td>\n",
       "      <td>0.0</td>\n",
       "    </tr>\n",
       "    <tr>\n",
       "      <th>1</th>\n",
       "      <td>Denver</td>\n",
       "      <td>Department Of The Interior</td>\n",
       "      <td>$71,012 - $99,243 a year</td>\n",
       "      <td>Investigate potential uses of geospatial data ...</td>\n",
       "      <td>Interdisciplinary Cartographer/Geographer - GS...</td>\n",
       "      <td>85127.5</td>\n",
       "      <td>False</td>\n",
       "      <td>1.0</td>\n",
       "      <td>0.0</td>\n",
       "      <td>0.0</td>\n",
       "      <td>...</td>\n",
       "      <td>0.0</td>\n",
       "      <td>0.0</td>\n",
       "      <td>0.0</td>\n",
       "      <td>0.0</td>\n",
       "      <td>0.0</td>\n",
       "      <td>0.0</td>\n",
       "      <td>0.0</td>\n",
       "      <td>0.0</td>\n",
       "      <td>0.0</td>\n",
       "      <td>0.0</td>\n",
       "    </tr>\n",
       "    <tr>\n",
       "      <th>2</th>\n",
       "      <td>Denver</td>\n",
       "      <td>Mental Health Center of Denver</td>\n",
       "      <td>$70,000 - $80,000 a year</td>\n",
       "      <td>Advise the Data Developer with regard to creat...</td>\n",
       "      <td>Financial Data Scientist</td>\n",
       "      <td>75000.0</td>\n",
       "      <td>False</td>\n",
       "      <td>1.0</td>\n",
       "      <td>0.0</td>\n",
       "      <td>0.0</td>\n",
       "      <td>...</td>\n",
       "      <td>0.0</td>\n",
       "      <td>0.0</td>\n",
       "      <td>0.0</td>\n",
       "      <td>0.0</td>\n",
       "      <td>0.0</td>\n",
       "      <td>0.0</td>\n",
       "      <td>0.0</td>\n",
       "      <td>0.0</td>\n",
       "      <td>0.0</td>\n",
       "      <td>0.0</td>\n",
       "    </tr>\n",
       "    <tr>\n",
       "      <th>3</th>\n",
       "      <td>Denver</td>\n",
       "      <td>Denver Public Schools</td>\n",
       "      <td>$62,712 - $75,255 a year</td>\n",
       "      <td>Portal managers on student outcome data report...</td>\n",
       "      <td>SENIOR RESEARCH ANALYST</td>\n",
       "      <td>68983.5</td>\n",
       "      <td>False</td>\n",
       "      <td>1.0</td>\n",
       "      <td>0.0</td>\n",
       "      <td>0.0</td>\n",
       "      <td>...</td>\n",
       "      <td>0.0</td>\n",
       "      <td>0.0</td>\n",
       "      <td>0.0</td>\n",
       "      <td>0.0</td>\n",
       "      <td>0.0</td>\n",
       "      <td>0.0</td>\n",
       "      <td>0.0</td>\n",
       "      <td>0.0</td>\n",
       "      <td>0.0</td>\n",
       "      <td>0.0</td>\n",
       "    </tr>\n",
       "    <tr>\n",
       "      <th>4</th>\n",
       "      <td>Denver</td>\n",
       "      <td>University of Colorado</td>\n",
       "      <td>$25,000 - $29,000 a year</td>\n",
       "      <td>Experience entering and manipulating data in a...</td>\n",
       "      <td>Animal Care I</td>\n",
       "      <td>27000.0</td>\n",
       "      <td>False</td>\n",
       "      <td>1.0</td>\n",
       "      <td>0.0</td>\n",
       "      <td>0.0</td>\n",
       "      <td>...</td>\n",
       "      <td>0.0</td>\n",
       "      <td>0.0</td>\n",
       "      <td>0.0</td>\n",
       "      <td>0.0</td>\n",
       "      <td>0.0</td>\n",
       "      <td>0.0</td>\n",
       "      <td>0.0</td>\n",
       "      <td>0.0</td>\n",
       "      <td>0.0</td>\n",
       "      <td>0.0</td>\n",
       "    </tr>\n",
       "  </tbody>\n",
       "</table>\n",
       "<p>5 rows × 341 columns</p>\n",
       "</div>"
      ],
      "text/plain": [
       "     city                         company                    salary  \\\n",
       "0  Denver      Department Of The Interior  $76,341 - $99,243 a year   \n",
       "1  Denver      Department Of The Interior  $71,012 - $99,243 a year   \n",
       "2  Denver  Mental Health Center of Denver  $70,000 - $80,000 a year   \n",
       "3  Denver           Denver Public Schools  $62,712 - $75,255 a year   \n",
       "4  Denver          University of Colorado  $25,000 - $29,000 a year   \n",
       "\n",
       "                                             summary  \\\n",
       "0  Would you like to join the more than 10,000 sc...   \n",
       "1  Investigate potential uses of geospatial data ...   \n",
       "2  Advise the Data Developer with regard to creat...   \n",
       "3  Portal managers on student outcome data report...   \n",
       "4  Experience entering and manipulating data in a...   \n",
       "\n",
       "                                               title  parsed_salary  \\\n",
       "0             Statistician, GS-1350-12 (DEU-PERM-DS)        87792.0   \n",
       "1  Interdisciplinary Cartographer/Geographer - GS...        85127.5   \n",
       "2                           Financial Data Scientist        75000.0   \n",
       "3                            SENIOR RESEARCH ANALYST        68983.5   \n",
       "4                                      Animal Care I        27000.0   \n",
       "\n",
       "  good_salary  good_salary_False  good_salary_True  \\\n",
       "0        True                0.0               1.0   \n",
       "1       False                1.0               0.0   \n",
       "2       False                1.0               0.0   \n",
       "3       False                1.0               0.0   \n",
       "4       False                1.0               0.0   \n",
       "\n",
       "   title_(Per-Diem) Research Analyst                 ...                   \\\n",
       "0                                0.0                 ...                    \n",
       "1                                0.0                 ...                    \n",
       "2                                0.0                 ...                    \n",
       "3                                0.0                 ...                    \n",
       "4                                0.0                 ...                    \n",
       "\n",
       "   title_Technical Service Engineer  \\\n",
       "0                               0.0   \n",
       "1                               0.0   \n",
       "2                               0.0   \n",
       "3                               0.0   \n",
       "4                               0.0   \n",
       "\n",
       "   title_Trace Organics - Environmental Lab Scientist II  \\\n",
       "0                                                0.0       \n",
       "1                                                0.0       \n",
       "2                                                0.0       \n",
       "3                                                0.0       \n",
       "4                                                0.0       \n",
       "\n",
       "   title_VP - Predictive Modeling / Data Scientist  \\\n",
       "0                                              0.0   \n",
       "1                                              0.0   \n",
       "2                                              0.0   \n",
       "3                                              0.0   \n",
       "4                                              0.0   \n",
       "\n",
       "   title_VP - Predictive Modeling Actuary  title_VP Data Scientist  \\\n",
       "0                                     0.0                      0.0   \n",
       "1                                     0.0                      0.0   \n",
       "2                                     0.0                      0.0   \n",
       "3                                     0.0                      0.0   \n",
       "4                                     0.0                      0.0   \n",
       "\n",
       "   title_VP of Data Services  \\\n",
       "0                        0.0   \n",
       "1                        0.0   \n",
       "2                        0.0   \n",
       "3                        0.0   \n",
       "4                        0.0   \n",
       "\n",
       "   title_Vice President Engineering (Big Data/ Machine Learning)  \\\n",
       "0                                                0.0               \n",
       "1                                                0.0               \n",
       "2                                                0.0               \n",
       "3                                                0.0               \n",
       "4                                                0.0               \n",
       "\n",
       "   title_Water Quality Modeler  title_Water Resources Analyst  \\\n",
       "0                          0.0                            0.0   \n",
       "1                          0.0                            0.0   \n",
       "2                          0.0                            0.0   \n",
       "3                          0.0                            0.0   \n",
       "4                          0.0                            0.0   \n",
       "\n",
       "   title_Web Security Research Analyst  \n",
       "0                                  0.0  \n",
       "1                                  0.0  \n",
       "2                                  0.0  \n",
       "3                                  0.0  \n",
       "4                                  0.0  \n",
       "\n",
       "[5 rows x 341 columns]"
      ]
     },
     "execution_count": 168,
     "metadata": {},
     "output_type": "execute_result"
    }
   ],
   "source": [
    "indeed_df.head()"
   ]
  },
  {
   "cell_type": "code",
   "execution_count": 169,
   "metadata": {
    "collapsed": true
   },
   "outputs": [],
   "source": [
    "del indeed_df['city']\n",
    "del indeed_df['company']\n",
    "del indeed_df['salary']\n",
    "del indeed_df['summary']\n",
    "del indeed_df['good_salary']\n",
    "del indeed_df['parsed_salary']"
   ]
  },
  {
   "cell_type": "code",
   "execution_count": 170,
   "metadata": {
    "collapsed": true
   },
   "outputs": [],
   "source": [
    "cat_vars=['title']\n",
    "indeed_vars=indeed_df.columns.values.tolist()\n",
    "to_keep=[i for i in indeed_vars if i not in cat_vars]\n"
   ]
  },
  {
   "cell_type": "code",
   "execution_count": 171,
   "metadata": {
    "collapsed": true
   },
   "outputs": [
    {
     "data": {
      "text/plain": [
       "['title',\n",
       " 'good_salary_False',\n",
       " 'good_salary_True',\n",
       " 'title_(Per-Diem) Research Analyst',\n",
       " 'title_(Sr.) Statistical Consultant',\n",
       " 'title_A.I. Psychologist/Research Assistant',\n",
       " 'title_AVP/Quantitative Analyst',\n",
       " 'title_Academic Financial Specialist',\n",
       " 'title_Account Management',\n",
       " 'title_Accountant, Associate, College of Medicine - Phoenix',\n",
       " 'title_Administrative Analyst/Specialist, Exempt I - Office of Rese...',\n",
       " 'title_Analyst',\n",
       " 'title_Analyst, Market Research',\n",
       " 'title_Analyst, Strategy & Insights \\xe2\\x80\\x93 Custom Research',\n",
       " 'title_Analytics Expert',\n",
       " 'title_Analytics Senior Director',\n",
       " 'title_Animal Care I',\n",
       " 'title_Asc Dir, Research Projects',\n",
       " 'title_Assistant Research Scientist',\n",
       " 'title_Assistant Research Scientist (G14) (Virology) - 34114',\n",
       " 'title_Assistant Research Scientist - RADARS',\n",
       " 'title_Assistant Research Scientist I, Grade 14, Job 736895',\n",
       " 'title_Associate Research Analyst',\n",
       " 'title_Astrophysicist',\n",
       " 'title_Audit Snr (Banking) - Data Analysis 60K-80K',\n",
       " 'title_BI/Data Architect',\n",
       " 'title_Big Data Engineer',\n",
       " 'title_Big Data Engineer (Software Engineering) \\xe2\\x80\\x93 Analytics',\n",
       " 'title_Big Data Engineer | Remote | Mature Start-up',\n",
       " 'title_Big Data Engineer/ ETL Developer for a Global Education Prov...',\n",
       " 'title_Billing Specialist',\n",
       " 'title_Bioinformatics Postdoctoral Fellow',\n",
       " 'title_Budget & Research Analyst',\n",
       " 'title_Business Data Analyst',\n",
       " 'title_Business Intelligence Data Scientist',\n",
       " 'title_Business Intelligence Scientist',\n",
       " 'title_Business Intelligence/Data Scientist at VC Bay Area Start-up',\n",
       " 'title_C++ Developer / Machine Learning',\n",
       " 'title_C++/Python Algo Developer/Data Scientist',\n",
       " 'title_CNUP Assistant',\n",
       " 'title_Career Coach',\n",
       " 'title_Certifying Scientist / Toxicologist',\n",
       " 'title_Chief Data Scientist',\n",
       " 'title_Clinical Laboratory Assistant',\n",
       " 'title_Clinical Laboratory Scientist (CLS)',\n",
       " 'title_Clinical Program Officer',\n",
       " 'title_Clinical Research Scientist',\n",
       " 'title_Competitive Research Analyst #23654',\n",
       " 'title_Computer Systems Manager I',\n",
       " 'title_Customer Intelligence Analyst',\n",
       " 'title_Cytometry Technician',\n",
       " 'title_DATA ANALYST',\n",
       " 'title_DYFJ Senior Analyst',\n",
       " 'title_Data Administrator',\n",
       " 'title_Data Analysis Specialist',\n",
       " 'title_Data Analyst',\n",
       " 'title_Data Analyst II (Department: Research, Assessment & Data)',\n",
       " 'title_Data Analyst Market - Research Analyst',\n",
       " 'title_Data Analyst, Bureau of Chronic Disease Prevention and Tobac...',\n",
       " 'title_Data Analysts, Data Scientists - Kendall Square startup',\n",
       " 'title_Data Architect / Data Scientist',\n",
       " 'title_Data Engineer',\n",
       " 'title_Data Engineer (Partially Remote)',\n",
       " 'title_Data Engineer for $100B Manager ($200k+Benefits)',\n",
       " 'title_Data Manager, Adolescent Health Unit',\n",
       " 'title_Data Operations Manager',\n",
       " 'title_Data Science Engineer',\n",
       " 'title_Data Scientist',\n",
       " 'title_Data Scientist (AML Experience)',\n",
       " 'title_Data Scientist (Advanced Machine Learning)',\n",
       " 'title_Data Scientist (Big Data)',\n",
       " 'title_Data Scientist (Econometrics)',\n",
       " 'title_Data Scientist (Lead)',\n",
       " 'title_Data Scientist (Machine Learning)',\n",
       " 'title_Data Scientist (Marketing Mix Modeling)',\n",
       " 'title_Data Scientist (Modeler)',\n",
       " 'title_Data Scientist (Natural Language Processing)',\n",
       " 'title_Data Scientist (PhD & Health Insurance Claims Experience)',\n",
       " 'title_Data Scientist (PhD in Statistics)',\n",
       " 'title_Data Scientist (Software Engineering)',\n",
       " 'title_Data Scientist - Digital Marketing - Technology Start-Up',\n",
       " 'title_Data Scientist - Fort Lauderdale, Florida - $115K',\n",
       " 'title_Data Scientist - Healthcare stealth startup - python',\n",
       " 'title_Data Scientist - Life Sciences',\n",
       " 'title_Data Scientist - healthcare, hacking coding skills',\n",
       " 'title_Data Scientist -Fitness/Wellness Firm',\n",
       " 'title_Data Scientist / SQL',\n",
       " 'title_Data Scientist Hedge Fund New York',\n",
       " 'title_Data Scientist Programmer/Specialist',\n",
       " 'title_Data Scientist- Entry Level',\n",
       " 'title_Database Administrator, GSE',\n",
       " 'title_Deputy Director for Child Welfare Management Reporting',\n",
       " 'title_Deputy Director, QA & Strategic Statistical Analysis',\n",
       " 'title_DevOps Engineer',\n",
       " 'title_Digital Data Scientist',\n",
       " 'title_Director of Data',\n",
       " 'title_Director of Data Analytics',\n",
       " 'title_Director of Data Science',\n",
       " 'title_Director of Data Science (Mapping)',\n",
       " 'title_Director of Predictive Analytics (Statistician)',\n",
       " 'title_Director, Data Science',\n",
       " 'title_Distributed Systems OR Full - Stack Python',\n",
       " 'title_Document Control Manager',\n",
       " 'title_Electronics Engineer',\n",
       " 'title_Electronics Technician',\n",
       " 'title_Electronics Technician, GS-0856-09/10/11 (DEU-Perm-YMJ) (Rad...',\n",
       " 'title_Embedded Software Engineer',\n",
       " 'title_Equity Research Analyst',\n",
       " 'title_Equity Research Analyst \\xe2\\x80\\x93 Biotech - Chicago, IL',\n",
       " 'title_Equity Research Analyst\\xc2\\xa0- US Energy Stocks',\n",
       " 'title_Erlang Engineer',\n",
       " 'title_Financial Data Scientist',\n",
       " 'title_Food Scientist MS or PhD - Meat Products',\n",
       " 'title_Fraud Data Scientist',\n",
       " 'title_Front End/UI Hybrid at World-Renowned Research Lab',\n",
       " 'title_Front-End Engineer',\n",
       " 'title_Full-Stack Data Scientist',\n",
       " 'title_Geologist GS-1350-07/09 (DEU - TERM - JG)',\n",
       " 'title_Global Equity Research Analyst',\n",
       " 'title_Global Marketing Manager - Ingredient and School Foodservice',\n",
       " 'title_HIGH THROUGHPUT SCREENING...',\n",
       " 'title_HUMAN RESOURCES ANALYST IV - Test Research',\n",
       " 'title_Head of Data Sciences',\n",
       " 'title_Health Scientist',\n",
       " 'title_Health Technician (Optometry)',\n",
       " 'title_Healthcare Research Analyst',\n",
       " 'title_High Frequency Strategy Engineer',\n",
       " 'title_IT Specialist (APPSW)',\n",
       " 'title_Infectious Disease Scientist',\n",
       " 'title_Interdisciplinary Cartographer/Geographer - GS-1370/0150-12...',\n",
       " 'title_Interdisciplinary Health Scientist/ Behavioral Scientist',\n",
       " 'title_International Environmental Specialist',\n",
       " 'title_Investment Research Analyst',\n",
       " 'title_JR. Full Stack Developer',\n",
       " 'title_Java Developer',\n",
       " 'title_Java Programmer',\n",
       " 'title_Java Software Engineer',\n",
       " 'title_Junior Data Scientist',\n",
       " 'title_Junior Medical Devices Equity Research Analyst',\n",
       " 'title_Junior Pharma Equity Research Analyst',\n",
       " 'title_Junior Quantitative Analyst / Developer for $5B Hedge Fund',\n",
       " 'title_Junior Research Analyst, Family and Child Health Administrat...',\n",
       " 'title_LC/MS Clinical Laboratory Scientist',\n",
       " 'title_Laboratory Director, Toxicology',\n",
       " 'title_Laboratory Manager',\n",
       " 'title_Lead Computer Vision Scientist (AR/VR | R&D | Machine Learni...',\n",
       " 'title_Lead Data Scientist',\n",
       " 'title_Lead Ruby on Rails Architect - CTO\\xc2\\x92s \\xc2\\x91Right Hand\\xc2\\x92',\n",
       " 'title_Lecturer - Statistics - Department of Statistics (includes s...',\n",
       " 'title_MEDICAL TECHNOLOGIST, DATA SYSTEMS',\n",
       " 'title_Machine Learning / Deep Learning Internship(s)',\n",
       " 'title_Machine Learning Data Engineer',\n",
       " 'title_Machine Learning Data Scientist',\n",
       " 'title_Machine Learning Engineer',\n",
       " 'title_Machine Learning Engineer Entry Level',\n",
       " 'title_Machine Learning Research Scientist - Hedgefund',\n",
       " 'title_Machine Learning Researcher',\n",
       " 'title_Machine Learning and Data Scientist',\n",
       " 'title_Manager Health Information Management Data Analysis HIM',\n",
       " 'title_Manager of Data Science (Python, R)',\n",
       " 'title_Manager, Data Science',\n",
       " 'title_Manager, Exploratory Statistics',\n",
       " 'title_Market Research Analyst',\n",
       " 'title_Marketing Specialist | SEO, PPC, Conversion Marketing',\n",
       " 'title_Marketing Statistician',\n",
       " 'title_Masters Program Coordinator, Machine Learning Department (SC...',\n",
       " 'title_Medical Technologist',\n",
       " 'title_Medical Technologist (Laboratory Information Manager)',\n",
       " 'title_Mid-Level C# .NET Software Engineer',\n",
       " 'title_Mid-Level Data Engineer',\n",
       " 'title_Mid-Level Data Scientist',\n",
       " 'title_Middle School Science Teacher Certificated Staff',\n",
       " 'title_Mobile QA Engineer',\n",
       " 'title_Molecular Laboratory Manager',\n",
       " 'title_NSF-Sponsored Postdoctoral Fellow: EEG Analysis',\n",
       " 'title_PRODUCT DEVELOPMENT SCIENTIST - Flavors',\n",
       " 'title_PROJECT MANAGER',\n",
       " 'title_Platform Developer/Geospatial Big Data (Python)',\n",
       " 'title_Policy Data Analyst',\n",
       " 'title_Policy and Public Affairs Manager, Division of Prevention an...',\n",
       " 'title_Post-Doctoral Research Scientist',\n",
       " 'title_Post-Doctoral Scholar-Employee: Analysis of omics data',\n",
       " 'title_Postdoc / Research Scientist',\n",
       " 'title_Postdoctoral Associate',\n",
       " 'title_Predictive Modeling Director',\n",
       " 'title_Predictive Risk Analyst',\n",
       " 'title_Principal Analyst\\\\Asst. Director\\xc2\\xb8 Data Science',\n",
       " 'title_Principal Data Scientist',\n",
       " 'title_Principal Data Scientist - Supply Chain',\n",
       " 'title_Principal Scientist - Food Science - Protein',\n",
       " 'title_Principal Statistical Analyst / Data Scientist',\n",
       " 'title_Principal Statistician',\n",
       " 'title_Product Development Specialist - Food R&D',\n",
       " 'title_Professional Research Assistant - Clinical Research Coordina...',\n",
       " 'title_Professional Research Assistant - Data Manager',\n",
       " 'title_Professional Research Assistant - Tissue Bank Coordinator/Da...',\n",
       " 'title_Program Manager',\n",
       " 'title_Program Statistician',\n",
       " 'title_Project Manager, Bureau of Primary Care Information Project',\n",
       " 'title_Project Manager, Citywide Programs',\n",
       " 'title_Python Developer (Machine Learning)',\n",
       " 'title_QA Engineer',\n",
       " 'title_QUANTITATIVE MODEL VALIDATION ANALYST',\n",
       " 'title_Quality Assurance Coordinator (Chemist 4) (In-Training)',\n",
       " 'title_Quality Control Scientist',\n",
       " 'title_Quantitative Analyst',\n",
       " 'title_Quantitative Analyst (Big Data Focus) at $10+ Billion Hedge...',\n",
       " 'title_Quantitative Analyst (Fundamental Quant Equities) - Hedge Fu...',\n",
       " 'title_Quantitative Analyst for Global Quant Fund',\n",
       " 'title_Quantitative Analyst or Manager Decision Sciences',\n",
       " 'title_Quantitative Data Analyst, Risk Management',\n",
       " 'title_Quantitative Data Scientist - Large Asset Manager',\n",
       " 'title_Quantitative Research Analyst',\n",
       " 'title_Quantitative Researcher - Statistical Machine Learning - Hed...',\n",
       " 'title_Quantitative Researcher, Machine Learning & Bayesian inferen...',\n",
       " 'title_RESEARCH ANALYST III, BEHAVIORAL SCIENCES',\n",
       " 'title_REVENUE ANALYST (STATISTICAL/ TIME SERIES ANALYSIS BACKGROUN...',\n",
       " 'title_React.js Developer - Machine Learning',\n",
       " 'title_Real Estate / Title Research Analyst',\n",
       " 'title_Realty Specialist',\n",
       " 'title_Regulatory & Compliance Manager',\n",
       " 'title_Research Administrator Analyst',\n",
       " 'title_Research Analyst',\n",
       " 'title_Research Analyst (excel, analysis, client-facing)',\n",
       " 'title_Research Analyst for Tech Industry',\n",
       " 'title_Research Analyst/Customer Serv',\n",
       " 'title_Research Associate 1',\n",
       " 'title_Research Data Analyst',\n",
       " 'title_Research Evaluation Analyst Senior',\n",
       " 'title_Research Financial Analyst (Dept/Sch)',\n",
       " 'title_Research Physical Scientist, AST, Chemical and Biological Ev...',\n",
       " 'title_Research Programmer/Analyst, Robotics Institute',\n",
       " 'title_Research Quality Assurance Analyst',\n",
       " 'title_Research Scientist',\n",
       " 'title_Research Scientist 3 - (Water Pollution)',\n",
       " 'title_Research Scientist II',\n",
       " 'title_Research Specialist',\n",
       " 'title_Research Statistician - Payment Cards',\n",
       " 'title_Research Technician',\n",
       " 'title_Research Technician II - Office of Research and Sponsored Pr...',\n",
       " 'title_Research Technician III, Grade 21, Job 735195',\n",
       " 'title_Researcher and Data Analyst, Developmental Disabilities',\n",
       " 'title_Risk Data Scientist',\n",
       " 'title_Robotics software engineer (involves machine learning, AI, a...',\n",
       " 'title_SENIOR RESEARCH ANALYST',\n",
       " 'title_SENIOR RESEARCH STAFF ASSISTANT',\n",
       " 'title_SR. SCIENTIST',\n",
       " 'title_SR. SOFTWARE ENGINEER - JAVA, BIG DATA, MACHINE LEARNING',\n",
       " 'title_STAFF DATA SCIENTIST / DEEP LEARNING',\n",
       " 'title_STATISTICIAN, LEVEL I',\n",
       " 'title_School Business Manager and Human Resources (HR)',\n",
       " 'title_Scientific Researcher',\n",
       " 'title_Scientist',\n",
       " 'title_Scientist - Tea',\n",
       " 'title_Scientist II - Tea (must have tea experience)',\n",
       " 'title_Scientist for Tea Formulation',\n",
       " 'title_Search Marketing Specialist',\n",
       " 'title_Senior Analyst (Data Science)',\n",
       " 'title_Senior Business Intelligence Data Scientist',\n",
       " 'title_Senior Business Intelligence Scientist',\n",
       " 'title_Senior Data Analyst',\n",
       " 'title_Senior Data Scientist',\n",
       " 'title_Senior Data Scientist ($150k)',\n",
       " 'title_Senior Data Scientist (Autonomous Vehicle Research)',\n",
       " 'title_Senior Data Scientist (Deep Learning or NLP)',\n",
       " 'title_Senior Data Scientist (Econometrics)',\n",
       " 'title_Senior Data Scientist (Financial Engineering)',\n",
       " 'title_Senior Data Scientist (Healthcare)',\n",
       " 'title_Senior Data Scientist (Python, R) in Des Plaines',\n",
       " 'title_Senior Data Scientist, Machine Learning (Data Labs)',\n",
       " 'title_Senior Deep Learning Data Scientist',\n",
       " 'title_Senior Dev Opps Engineer for San Diego Financial Software (A...',\n",
       " 'title_Senior Dev Ops/App Ops Engineer (AWS Cloud)',\n",
       " 'title_Senior DevOps Engineer | Remote | Mature Start-up',\n",
       " 'title_Senior Epidemiologist, Bureau Systems Strengthening and Acce...',\n",
       " 'title_Senior Equity Research Analyst',\n",
       " 'title_Senior Hadoop Administrator',\n",
       " 'title_Senior Java Computer Scientist',\n",
       " 'title_Senior Level Data Scientist',\n",
       " 'title_Senior Manager Supply Chain Analytics',\n",
       " 'title_Senior NLP Scientist/Engineer',\n",
       " 'title_Senior Node.JS Developer',\n",
       " 'title_Senior Operations Research Analyst',\n",
       " 'title_Senior Research Analyst',\n",
       " 'title_Senior Research Quality Assurance Analyst',\n",
       " 'title_Senior Scientist',\n",
       " 'title_Senior Scientist - Upstream Processes - Biologics Manufactur...',\n",
       " 'title_Senior Software Engineer',\n",
       " 'title_Senior Software Scientist \\xe2\\x80\\x93 Platform Tools R&D',\n",
       " 'title_Senior Staff Scientist / Technical Director',\n",
       " 'title_Senior Statistician',\n",
       " 'title_Senior/ Lead Data Scientist for Digital Media Company',\n",
       " 'title_Software Development Engineer (Machine Learning)',\n",
       " 'title_Software Engineer - C, Linux - BIG Compensation',\n",
       " 'title_Software Engineer - Machine Learning Team',\n",
       " 'title_Software Engineer, Cloud',\n",
       " 'title_Software Engineer, Java',\n",
       " 'title_Software Engineer-Data Scientist',\n",
       " 'title_Software Engineer/Data Scientist',\n",
       " 'title_Software Engineers (junior to mid-level) Python/Flask/Angula...',\n",
       " 'title_Sr. Applications Engineer',\n",
       " 'title_Sr. Certifying Scientist / Toxicologist',\n",
       " 'title_Sr. Data Scientist',\n",
       " 'title_Sr. Data Scientist, Compensation Analytics',\n",
       " 'title_Sr. Machine Learning Data Scientist',\n",
       " 'title_Sr. RA II',\n",
       " 'title_Sr. Risk Statistician',\n",
       " 'title_Sr. Statistician',\n",
       " 'title_Staff Engineer, Machine Learning (Scala)',\n",
       " 'title_Statistical Analyst',\n",
       " 'title_Statistical Assistant',\n",
       " 'title_Statistical Credit Risk Modeler | Top Performing Investment...',\n",
       " 'title_Statistical Data Analyst',\n",
       " 'title_Statistical Data Analyst // Exciting Long-term Contract in N...',\n",
       " 'title_Statistical Research Scientist - RADARS',\n",
       " 'title_Statistical Research Specialist',\n",
       " 'title_Statistician',\n",
       " 'title_Statistician (Health)',\n",
       " 'title_Statistician \\xe2\\x80\\x93 Trading Firm',\n",
       " 'title_Statistician, GS-1350-12 (DEU-PERM-DS)',\n",
       " 'title_Supervisory Health Scientist',\n",
       " 'title_Survey Methodologist',\n",
       " 'title_Systems Programmer',\n",
       " 'title_Tech Lead Full-Stack Engineer',\n",
       " 'title_Technical Project Manager/Business Analyst',\n",
       " 'title_Technical Service Engineer',\n",
       " 'title_Trace Organics - Environmental Lab Scientist II',\n",
       " 'title_VP - Predictive Modeling / Data Scientist',\n",
       " 'title_VP - Predictive Modeling Actuary',\n",
       " 'title_VP Data Scientist',\n",
       " 'title_VP of Data Services',\n",
       " 'title_Vice President Engineering (Big Data/ Machine Learning)',\n",
       " 'title_Water Quality Modeler',\n",
       " 'title_Water Resources Analyst',\n",
       " 'title_Web Security Research Analyst']"
      ]
     },
     "execution_count": 171,
     "metadata": {},
     "output_type": "execute_result"
    }
   ],
   "source": [
    "indeed_vars"
   ]
  },
  {
   "cell_type": "code",
   "execution_count": 172,
   "metadata": {
    "collapsed": true
   },
   "outputs": [
    {
     "data": {
      "text/plain": [
       "array(['good_salary_False', 'good_salary_True',\n",
       "       'title_(Per-Diem) Research Analyst',\n",
       "       'title_(Sr.) Statistical Consultant',\n",
       "       'title_A.I. Psychologist/Research Assistant',\n",
       "       'title_AVP/Quantitative Analyst',\n",
       "       'title_Academic Financial Specialist', 'title_Account Management',\n",
       "       'title_Accountant, Associate, College of Medicine - Phoenix',\n",
       "       'title_Administrative Analyst/Specialist, Exempt I - Office of Rese...',\n",
       "       'title_Analyst', 'title_Analyst, Market Research',\n",
       "       'title_Analyst, Strategy & Insights \\xe2\\x80\\x93 Custom Research',\n",
       "       'title_Analytics Expert', 'title_Analytics Senior Director',\n",
       "       'title_Animal Care I', 'title_Asc Dir, Research Projects',\n",
       "       'title_Assistant Research Scientist',\n",
       "       'title_Assistant Research Scientist (G14) (Virology) - 34114',\n",
       "       'title_Assistant Research Scientist - RADARS',\n",
       "       'title_Assistant Research Scientist I, Grade 14, Job 736895',\n",
       "       'title_Associate Research Analyst', 'title_Astrophysicist',\n",
       "       'title_Audit Snr (Banking) - Data Analysis 60K-80K',\n",
       "       'title_BI/Data Architect', 'title_Big Data Engineer',\n",
       "       'title_Big Data Engineer (Software Engineering) \\xe2\\x80\\x93 Analytics',\n",
       "       'title_Big Data Engineer | Remote | Mature Start-up',\n",
       "       'title_Big Data Engineer/ ETL Developer for a Global Education Prov...',\n",
       "       'title_Billing Specialist',\n",
       "       'title_Bioinformatics Postdoctoral Fellow',\n",
       "       'title_Budget & Research Analyst', 'title_Business Data Analyst',\n",
       "       'title_Business Intelligence Data Scientist',\n",
       "       'title_Business Intelligence Scientist',\n",
       "       'title_Business Intelligence/Data Scientist at VC Bay Area Start-up',\n",
       "       'title_C++ Developer / Machine Learning',\n",
       "       'title_C++/Python Algo Developer/Data Scientist',\n",
       "       'title_CNUP Assistant', 'title_Career Coach',\n",
       "       'title_Certifying Scientist / Toxicologist',\n",
       "       'title_Chief Data Scientist', 'title_Clinical Laboratory Assistant',\n",
       "       'title_Clinical Laboratory Scientist (CLS)',\n",
       "       'title_Clinical Program Officer',\n",
       "       'title_Clinical Research Scientist',\n",
       "       'title_Competitive Research Analyst #23654',\n",
       "       'title_Computer Systems Manager I',\n",
       "       'title_Customer Intelligence Analyst', 'title_Cytometry Technician',\n",
       "       'title_DATA ANALYST', 'title_DYFJ Senior Analyst',\n",
       "       'title_Data Administrator', 'title_Data Analysis Specialist',\n",
       "       'title_Data Analyst',\n",
       "       'title_Data Analyst II (Department: Research, Assessment & Data)',\n",
       "       'title_Data Analyst Market - Research Analyst',\n",
       "       'title_Data Analyst, Bureau of Chronic Disease Prevention and Tobac...',\n",
       "       'title_Data Analysts, Data Scientists - Kendall Square startup',\n",
       "       'title_Data Architect / Data Scientist', 'title_Data Engineer',\n",
       "       'title_Data Engineer (Partially Remote)',\n",
       "       'title_Data Engineer for $100B Manager ($200k+Benefits)',\n",
       "       'title_Data Manager, Adolescent Health Unit',\n",
       "       'title_Data Operations Manager', 'title_Data Science Engineer',\n",
       "       'title_Data Scientist', 'title_Data Scientist (AML Experience)',\n",
       "       'title_Data Scientist (Advanced Machine Learning)',\n",
       "       'title_Data Scientist (Big Data)',\n",
       "       'title_Data Scientist (Econometrics)',\n",
       "       'title_Data Scientist (Lead)',\n",
       "       'title_Data Scientist (Machine Learning)',\n",
       "       'title_Data Scientist (Marketing Mix Modeling)',\n",
       "       'title_Data Scientist (Modeler)',\n",
       "       'title_Data Scientist (Natural Language Processing)',\n",
       "       'title_Data Scientist (PhD & Health Insurance Claims Experience)',\n",
       "       'title_Data Scientist (PhD in Statistics)',\n",
       "       'title_Data Scientist (Software Engineering)',\n",
       "       'title_Data Scientist - Digital Marketing - Technology Start-Up',\n",
       "       'title_Data Scientist - Fort Lauderdale, Florida - $115K',\n",
       "       'title_Data Scientist - Healthcare stealth startup - python',\n",
       "       'title_Data Scientist - Life Sciences',\n",
       "       'title_Data Scientist - healthcare, hacking coding skills',\n",
       "       'title_Data Scientist -Fitness/Wellness Firm',\n",
       "       'title_Data Scientist / SQL',\n",
       "       'title_Data Scientist Hedge Fund New York',\n",
       "       'title_Data Scientist Programmer/Specialist',\n",
       "       'title_Data Scientist- Entry Level',\n",
       "       'title_Database Administrator, GSE',\n",
       "       'title_Deputy Director for Child Welfare Management Reporting',\n",
       "       'title_Deputy Director, QA & Strategic Statistical Analysis',\n",
       "       'title_DevOps Engineer', 'title_Digital Data Scientist',\n",
       "       'title_Director of Data', 'title_Director of Data Analytics',\n",
       "       'title_Director of Data Science',\n",
       "       'title_Director of Data Science (Mapping)',\n",
       "       'title_Director of Predictive Analytics (Statistician)',\n",
       "       'title_Director, Data Science',\n",
       "       'title_Distributed Systems OR Full - Stack Python',\n",
       "       'title_Document Control Manager', 'title_Electronics Engineer',\n",
       "       'title_Electronics Technician',\n",
       "       'title_Electronics Technician, GS-0856-09/10/11 (DEU-Perm-YMJ) (Rad...',\n",
       "       'title_Embedded Software Engineer', 'title_Equity Research Analyst',\n",
       "       'title_Equity Research Analyst \\xe2\\x80\\x93 Biotech - Chicago, IL',\n",
       "       'title_Equity Research Analyst\\xc2\\xa0- US Energy Stocks',\n",
       "       'title_Erlang Engineer', 'title_Financial Data Scientist',\n",
       "       'title_Food Scientist MS or PhD - Meat Products',\n",
       "       'title_Fraud Data Scientist',\n",
       "       'title_Front End/UI Hybrid at World-Renowned Research Lab',\n",
       "       'title_Front-End Engineer', 'title_Full-Stack Data Scientist',\n",
       "       'title_Geologist GS-1350-07/09 (DEU - TERM - JG)',\n",
       "       'title_Global Equity Research Analyst',\n",
       "       'title_Global Marketing Manager - Ingredient and School Foodservice',\n",
       "       'title_HIGH THROUGHPUT SCREENING...',\n",
       "       'title_HUMAN RESOURCES ANALYST IV - Test Research',\n",
       "       'title_Head of Data Sciences', 'title_Health Scientist',\n",
       "       'title_Health Technician (Optometry)',\n",
       "       'title_Healthcare Research Analyst',\n",
       "       'title_High Frequency Strategy Engineer',\n",
       "       'title_IT Specialist (APPSW)', 'title_Infectious Disease Scientist',\n",
       "       'title_Interdisciplinary Cartographer/Geographer - GS-1370/0150-12...',\n",
       "       'title_Interdisciplinary Health Scientist/ Behavioral Scientist',\n",
       "       'title_International Environmental Specialist',\n",
       "       'title_Investment Research Analyst',\n",
       "       'title_JR. Full Stack Developer', 'title_Java Developer',\n",
       "       'title_Java Programmer', 'title_Java Software Engineer',\n",
       "       'title_Junior Data Scientist',\n",
       "       'title_Junior Medical Devices Equity Research Analyst',\n",
       "       'title_Junior Pharma Equity Research Analyst',\n",
       "       'title_Junior Quantitative Analyst / Developer for $5B Hedge Fund',\n",
       "       'title_Junior Research Analyst, Family and Child Health Administrat...',\n",
       "       'title_LC/MS Clinical Laboratory Scientist',\n",
       "       'title_Laboratory Director, Toxicology', 'title_Laboratory Manager',\n",
       "       'title_Lead Computer Vision Scientist (AR/VR | R&D | Machine Learni...',\n",
       "       'title_Lead Data Scientist',\n",
       "       'title_Lead Ruby on Rails Architect - CTO\\xc2\\x92s \\xc2\\x91Right Hand\\xc2\\x92',\n",
       "       'title_Lecturer - Statistics - Department of Statistics (includes s...',\n",
       "       'title_MEDICAL TECHNOLOGIST, DATA SYSTEMS',\n",
       "       'title_Machine Learning / Deep Learning Internship(s)',\n",
       "       'title_Machine Learning Data Engineer',\n",
       "       'title_Machine Learning Data Scientist',\n",
       "       'title_Machine Learning Engineer',\n",
       "       'title_Machine Learning Engineer Entry Level',\n",
       "       'title_Machine Learning Research Scientist - Hedgefund',\n",
       "       'title_Machine Learning Researcher',\n",
       "       'title_Machine Learning and Data Scientist',\n",
       "       'title_Manager Health Information Management Data Analysis HIM',\n",
       "       'title_Manager of Data Science (Python, R)',\n",
       "       'title_Manager, Data Science',\n",
       "       'title_Manager, Exploratory Statistics',\n",
       "       'title_Market Research Analyst',\n",
       "       'title_Marketing Specialist | SEO, PPC, Conversion Marketing',\n",
       "       'title_Marketing Statistician',\n",
       "       'title_Masters Program Coordinator, Machine Learning Department (SC...',\n",
       "       'title_Medical Technologist',\n",
       "       'title_Medical Technologist (Laboratory Information Manager)',\n",
       "       'title_Mid-Level C# .NET Software Engineer',\n",
       "       'title_Mid-Level Data Engineer', 'title_Mid-Level Data Scientist',\n",
       "       'title_Middle School Science Teacher Certificated Staff',\n",
       "       'title_Mobile QA Engineer', 'title_Molecular Laboratory Manager',\n",
       "       'title_NSF-Sponsored Postdoctoral Fellow: EEG Analysis',\n",
       "       'title_PRODUCT DEVELOPMENT SCIENTIST - Flavors',\n",
       "       'title_PROJECT MANAGER',\n",
       "       'title_Platform Developer/Geospatial Big Data (Python)',\n",
       "       'title_Policy Data Analyst',\n",
       "       'title_Policy and Public Affairs Manager, Division of Prevention an...',\n",
       "       'title_Post-Doctoral Research Scientist',\n",
       "       'title_Post-Doctoral Scholar-Employee: Analysis of omics data',\n",
       "       'title_Postdoc / Research Scientist',\n",
       "       'title_Postdoctoral Associate',\n",
       "       'title_Predictive Modeling Director',\n",
       "       'title_Predictive Risk Analyst',\n",
       "       'title_Principal Analyst\\\\Asst. Director\\xc2\\xb8 Data Science',\n",
       "       'title_Principal Data Scientist',\n",
       "       'title_Principal Data Scientist - Supply Chain',\n",
       "       'title_Principal Scientist - Food Science - Protein',\n",
       "       'title_Principal Statistical Analyst / Data Scientist',\n",
       "       'title_Principal Statistician',\n",
       "       'title_Product Development Specialist - Food R&D',\n",
       "       'title_Professional Research Assistant - Clinical Research Coordina...',\n",
       "       'title_Professional Research Assistant - Data Manager',\n",
       "       'title_Professional Research Assistant - Tissue Bank Coordinator/Da...',\n",
       "       'title_Program Manager', 'title_Program Statistician',\n",
       "       'title_Project Manager, Bureau of Primary Care Information Project',\n",
       "       'title_Project Manager, Citywide Programs',\n",
       "       'title_Python Developer (Machine Learning)', 'title_QA Engineer',\n",
       "       'title_QUANTITATIVE MODEL VALIDATION ANALYST',\n",
       "       'title_Quality Assurance Coordinator (Chemist 4) (In-Training)',\n",
       "       'title_Quality Control Scientist', 'title_Quantitative Analyst',\n",
       "       'title_Quantitative Analyst (Big Data Focus) at $10+ Billion Hedge...',\n",
       "       'title_Quantitative Analyst (Fundamental Quant Equities) - Hedge Fu...',\n",
       "       'title_Quantitative Analyst for Global Quant Fund',\n",
       "       'title_Quantitative Analyst or Manager Decision Sciences',\n",
       "       'title_Quantitative Data Analyst, Risk Management',\n",
       "       'title_Quantitative Data Scientist - Large Asset Manager',\n",
       "       'title_Quantitative Research Analyst',\n",
       "       'title_Quantitative Researcher - Statistical Machine Learning - Hed...',\n",
       "       'title_Quantitative Researcher, Machine Learning & Bayesian inferen...',\n",
       "       'title_RESEARCH ANALYST III, BEHAVIORAL SCIENCES',\n",
       "       'title_REVENUE ANALYST (STATISTICAL/ TIME SERIES ANALYSIS BACKGROUN...',\n",
       "       'title_React.js Developer - Machine Learning',\n",
       "       'title_Real Estate / Title Research Analyst',\n",
       "       'title_Realty Specialist', 'title_Regulatory & Compliance Manager',\n",
       "       'title_Research Administrator Analyst', 'title_Research Analyst',\n",
       "       'title_Research Analyst (excel, analysis, client-facing)',\n",
       "       'title_Research Analyst for Tech Industry',\n",
       "       'title_Research Analyst/Customer Serv',\n",
       "       'title_Research Associate 1', 'title_Research Data Analyst',\n",
       "       'title_Research Evaluation Analyst Senior',\n",
       "       'title_Research Financial Analyst (Dept/Sch)',\n",
       "       'title_Research Physical Scientist, AST, Chemical and Biological Ev...',\n",
       "       'title_Research Programmer/Analyst, Robotics Institute',\n",
       "       'title_Research Quality Assurance Analyst',\n",
       "       'title_Research Scientist',\n",
       "       'title_Research Scientist 3 - (Water Pollution)',\n",
       "       'title_Research Scientist II', 'title_Research Specialist',\n",
       "       'title_Research Statistician - Payment Cards',\n",
       "       'title_Research Technician',\n",
       "       'title_Research Technician II - Office of Research and Sponsored Pr...',\n",
       "       'title_Research Technician III, Grade 21, Job 735195',\n",
       "       'title_Researcher and Data Analyst, Developmental Disabilities',\n",
       "       'title_Risk Data Scientist',\n",
       "       'title_Robotics software engineer (involves machine learning, AI, a...',\n",
       "       'title_SENIOR RESEARCH ANALYST',\n",
       "       'title_SENIOR RESEARCH STAFF ASSISTANT', 'title_SR. SCIENTIST',\n",
       "       'title_SR. SOFTWARE ENGINEER - JAVA, BIG DATA, MACHINE LEARNING',\n",
       "       'title_STAFF DATA SCIENTIST / DEEP LEARNING',\n",
       "       'title_STATISTICIAN, LEVEL I',\n",
       "       'title_School Business Manager and Human Resources (HR)',\n",
       "       'title_Scientific Researcher', 'title_Scientist',\n",
       "       'title_Scientist - Tea',\n",
       "       'title_Scientist II - Tea (must have tea experience)',\n",
       "       'title_Scientist for Tea Formulation',\n",
       "       'title_Search Marketing Specialist',\n",
       "       'title_Senior Analyst (Data Science)',\n",
       "       'title_Senior Business Intelligence Data Scientist',\n",
       "       'title_Senior Business Intelligence Scientist',\n",
       "       'title_Senior Data Analyst', 'title_Senior Data Scientist',\n",
       "       'title_Senior Data Scientist ($150k)',\n",
       "       'title_Senior Data Scientist (Autonomous Vehicle Research)',\n",
       "       'title_Senior Data Scientist (Deep Learning or NLP)',\n",
       "       'title_Senior Data Scientist (Econometrics)',\n",
       "       'title_Senior Data Scientist (Financial Engineering)',\n",
       "       'title_Senior Data Scientist (Healthcare)',\n",
       "       'title_Senior Data Scientist (Python, R) in Des Plaines',\n",
       "       'title_Senior Data Scientist, Machine Learning (Data Labs)',\n",
       "       'title_Senior Deep Learning Data Scientist',\n",
       "       'title_Senior Dev Opps Engineer for San Diego Financial Software (A...',\n",
       "       'title_Senior Dev Ops/App Ops Engineer (AWS Cloud)',\n",
       "       'title_Senior DevOps Engineer | Remote | Mature Start-up',\n",
       "       'title_Senior Epidemiologist, Bureau Systems Strengthening and Acce...',\n",
       "       'title_Senior Equity Research Analyst',\n",
       "       'title_Senior Hadoop Administrator',\n",
       "       'title_Senior Java Computer Scientist',\n",
       "       'title_Senior Level Data Scientist',\n",
       "       'title_Senior Manager Supply Chain Analytics',\n",
       "       'title_Senior NLP Scientist/Engineer',\n",
       "       'title_Senior Node.JS Developer',\n",
       "       'title_Senior Operations Research Analyst',\n",
       "       'title_Senior Research Analyst',\n",
       "       'title_Senior Research Quality Assurance Analyst',\n",
       "       'title_Senior Scientist',\n",
       "       'title_Senior Scientist - Upstream Processes - Biologics Manufactur...',\n",
       "       'title_Senior Software Engineer',\n",
       "       'title_Senior Software Scientist \\xe2\\x80\\x93 Platform Tools R&D',\n",
       "       'title_Senior Staff Scientist / Technical Director',\n",
       "       'title_Senior Statistician',\n",
       "       'title_Senior/ Lead Data Scientist for Digital Media Company',\n",
       "       'title_Software Development Engineer (Machine Learning)',\n",
       "       'title_Software Engineer - C, Linux - BIG Compensation',\n",
       "       'title_Software Engineer - Machine Learning Team',\n",
       "       'title_Software Engineer, Cloud', 'title_Software Engineer, Java',\n",
       "       'title_Software Engineer-Data Scientist',\n",
       "       'title_Software Engineer/Data Scientist',\n",
       "       'title_Software Engineers (junior to mid-level) Python/Flask/Angula...',\n",
       "       'title_Sr. Applications Engineer',\n",
       "       'title_Sr. Certifying Scientist / Toxicologist',\n",
       "       'title_Sr. Data Scientist',\n",
       "       'title_Sr. Data Scientist, Compensation Analytics',\n",
       "       'title_Sr. Machine Learning Data Scientist', 'title_Sr. RA II',\n",
       "       'title_Sr. Risk Statistician', 'title_Sr. Statistician',\n",
       "       'title_Staff Engineer, Machine Learning (Scala)',\n",
       "       'title_Statistical Analyst', 'title_Statistical Assistant',\n",
       "       'title_Statistical Credit Risk Modeler | Top Performing Investment...',\n",
       "       'title_Statistical Data Analyst',\n",
       "       'title_Statistical Data Analyst // Exciting Long-term Contract in N...',\n",
       "       'title_Statistical Research Scientist - RADARS',\n",
       "       'title_Statistical Research Specialist', 'title_Statistician',\n",
       "       'title_Statistician (Health)',\n",
       "       'title_Statistician \\xe2\\x80\\x93 Trading Firm',\n",
       "       'title_Statistician, GS-1350-12 (DEU-PERM-DS)',\n",
       "       'title_Supervisory Health Scientist', 'title_Survey Methodologist',\n",
       "       'title_Systems Programmer', 'title_Tech Lead Full-Stack Engineer',\n",
       "       'title_Technical Project Manager/Business Analyst',\n",
       "       'title_Technical Service Engineer',\n",
       "       'title_Trace Organics - Environmental Lab Scientist II',\n",
       "       'title_VP - Predictive Modeling / Data Scientist',\n",
       "       'title_VP - Predictive Modeling Actuary', 'title_VP Data Scientist',\n",
       "       'title_VP of Data Services',\n",
       "       'title_Vice President Engineering (Big Data/ Machine Learning)',\n",
       "       'title_Water Quality Modeler', 'title_Water Resources Analyst',\n",
       "       'title_Web Security Research Analyst'], dtype=object)"
      ]
     },
     "execution_count": 172,
     "metadata": {},
     "output_type": "execute_result"
    }
   ],
   "source": [
    "indeed_final=indeed_df[to_keep]\n",
    "indeed_final.columns.values"
   ]
  },
  {
   "cell_type": "code",
   "execution_count": 173,
   "metadata": {
    "collapsed": true
   },
   "outputs": [],
   "source": [
    "indeed_final_vars=indeed_final.columns.values.tolist()\n",
    "y = ['good_salary_True']\n",
    "X = [i for i in indeed_final_vars if i not in y ] #removes target"
   ]
  },
  {
   "cell_type": "code",
   "execution_count": 174,
   "metadata": {
    "collapsed": true
   },
   "outputs": [
    {
     "name": "stdout",
     "output_type": "stream",
     "text": [
      "[ True False False False False False False False False False False False\n",
      " False False False False False False False False False False False False\n",
      " False False False False False False False False False False False False\n",
      " False False False False False False False False False False False False\n",
      " False False False False False False False False False False False False\n",
      " False False False False False  True False False False False False False\n",
      " False False False False False False False False False False False False\n",
      " False False False False False False False False False False False False\n",
      " False False False False False False False False False False False False\n",
      " False False False False False False False False False False False False\n",
      " False False False False False False False False False False False False\n",
      "  True False False False False False False False False False False False\n",
      "  True False False False False False False False False False False False\n",
      " False False False False  True False False False False False False False\n",
      " False False False False False False False False False False False False\n",
      " False False False False False  True False False False False False False\n",
      " False False False False False False False False False False  True  True\n",
      " False False False False False False False False False False False False\n",
      " False False False False False False False False False False False False\n",
      " False False False False False False False False False False False False\n",
      " False False False False False False False False False False False False\n",
      " False False False False False False False  True False False False False\n",
      " False False False False False False False False False False False False\n",
      " False False  True False False False False False False False False False\n",
      " False False False False False False False False False False False False\n",
      " False False False False False False False False False False False False\n",
      " False False  True False False False False False False False False False\n",
      " False  True False False False False False False False]\n",
      "[  1 184  26 183  25 182 181 180 187 189 191 193  23  22 202 204  10 179\n",
      "  21 213 215  20 205 207  29 220  30  19 188 190 192   6  31  33  35  37\n",
      "  39 250 253 255  41 258  43 261 264 265  45 235 237 239 238 245  47 268\n",
      " 270 272 274  48  46   5  55  57 206  28  24   1  71  73  75  77 305   4\n",
      "  81  83   3 209  87   2  78  94  93  84  88  95  97  99 101 285 287 288\n",
      " 103 319 105 107 109 111 113 115 117 119 231 121 251 252 123 256 114  91\n",
      "  92 246 247  90  60 124 126 266 128 271 273 130 132 277 278 280 134 136\n",
      " 138 218 140 199 203 142   1 146 148 150 152 211 154 214 156 158 230 160\n",
      "   1 163 233 234 232 165 168 289 291 167 143 306 308 169 171 173   1 311\n",
      " 313 315 317 318 176 166 164 267 162 122 282 294 295 120 300 307 299 240\n",
      " 241 242 118 248 116   1 112 110 108 106 104 284 286 290 102 296 302 303\n",
      " 100  98  96   7   1   1  86  82  80  76 279  74  72  70  32   8 298  17\n",
      " 216 310 212 177  14 185 194 201 196  11 198 195  18 222 223 226 228 249\n",
      "  12 225 254 224 217 297  27 259   9 292 293 262  34 283 281 275 269  36\n",
      "  38  40 227 260  42  44  15   1  49  52  53  50  51  54  56  58  66  67\n",
      "  65  59  89  85  79  61  62  63   1  68 219  13 221 125 127 322 129 210\n",
      " 320 131 133 135 137 304 301 139 141 144 145 236 147 149 151 276 153 263\n",
      " 155 321 257  64 243 244 178 186   1 157 159 161  69 208 229  16 309 200\n",
      " 197   1 170 172 174 175 312 314 316]\n"
     ]
    }
   ],
   "source": [
    "from sklearn import datasets\n",
    "from sklearn.feature_selection import RFE\n",
    "from sklearn.linear_model import LogisticRegression\n",
    "model = LogisticRegression()\n",
    "rfe = RFE(model, 12) #12 is a random number choosing ammount of relevant features\n",
    "rfe = rfe.fit(indeed_final[X],indeed_final[y].values)\n",
    "print(rfe.support_)\n",
    "print(rfe.ranking_)"
   ]
  },
  {
   "cell_type": "code",
   "execution_count": 175,
   "metadata": {
    "collapsed": true
   },
   "outputs": [
    {
     "data": {
      "text/plain": [
       "LogisticRegression(C=1.0, class_weight=None, dual=False, fit_intercept=True,\n",
       "          intercept_scaling=1, max_iter=100, multi_class='ovr', n_jobs=1,\n",
       "          penalty='l2', random_state=None, solver='liblinear', tol=0.0001,\n",
       "          verbose=0, warm_start=False)"
      ]
     },
     "execution_count": 175,
     "metadata": {},
     "output_type": "execute_result"
    }
   ],
   "source": [
    "model"
   ]
  },
  {
   "cell_type": "code",
   "execution_count": 176,
   "metadata": {
    "collapsed": false
   },
   "outputs": [
    {
     "data": {
      "text/plain": [
       "['good_salary_False',\n",
       " 'title_Data Scientist',\n",
       " 'title_Java Developer',\n",
       " 'title_Lead Data Scientist',\n",
       " 'title_Market Research Analyst',\n",
       " 'title_Principal Data Scientist',\n",
       " 'title_Quality Control Scientist',\n",
       " 'title_Quantitative Analyst',\n",
       " 'title_Senior Data Scientist',\n",
       " 'title_Senior NLP Scientist/Engineer',\n",
       " 'title_Statistician',\n",
       " 'title_VP - Predictive Modeling / Data Scientist']"
      ]
     },
     "execution_count": 176,
     "metadata": {},
     "output_type": "execute_result"
    }
   ],
   "source": [
    "cols = indeed_final[X].columns.values[rfe.support_].tolist()\n",
    "cols"
   ]
  },
  {
   "cell_type": "code",
   "execution_count": 177,
   "metadata": {
    "collapsed": true
   },
   "outputs": [],
   "source": [
    "X = indeed_final[cols]\n",
    "y = indeed_final['good_salary_True']"
   ]
  },
  {
   "cell_type": "code",
   "execution_count": 178,
   "metadata": {
    "collapsed": true
   },
   "outputs": [
    {
     "name": "stdout",
     "output_type": "stream",
     "text": [
      "Warning: Maximum number of iterations has been exceeded.\n",
      "         Current function value: 0.303892\n",
      "         Iterations: 35\n"
     ]
    },
    {
     "ename": "LinAlgError",
     "evalue": "Singular matrix",
     "output_type": "error",
     "traceback": [
      "\u001b[0;31m---------------------------------------------------------------------------\u001b[0m",
      "\u001b[0;31mLinAlgError\u001b[0m                               Traceback (most recent call last)",
      "\u001b[0;32m<ipython-input-178-5f1a6fbeef1d>\u001b[0m in \u001b[0;36m<module>\u001b[0;34m()\u001b[0m\n\u001b[1;32m      1\u001b[0m \u001b[0;32mimport\u001b[0m \u001b[0mstatsmodels\u001b[0m\u001b[0;34m.\u001b[0m\u001b[0mapi\u001b[0m \u001b[0;32mas\u001b[0m \u001b[0msm\u001b[0m\u001b[0;34m\u001b[0m\u001b[0m\n\u001b[1;32m      2\u001b[0m \u001b[0mlogit_model\u001b[0m\u001b[0;34m=\u001b[0m\u001b[0msm\u001b[0m\u001b[0;34m.\u001b[0m\u001b[0mLogit\u001b[0m\u001b[0;34m(\u001b[0m\u001b[0my\u001b[0m\u001b[0;34m,\u001b[0m\u001b[0mX\u001b[0m\u001b[0;34m)\u001b[0m\u001b[0;34m\u001b[0m\u001b[0m\n\u001b[0;32m----> 3\u001b[0;31m \u001b[0mresult\u001b[0m\u001b[0;34m=\u001b[0m\u001b[0mlogit_model\u001b[0m\u001b[0;34m.\u001b[0m\u001b[0mfit\u001b[0m\u001b[0;34m(\u001b[0m\u001b[0;34m)\u001b[0m\u001b[0;34m\u001b[0m\u001b[0m\n\u001b[0m\u001b[1;32m      4\u001b[0m \u001b[0;32mprint\u001b[0m \u001b[0mresult\u001b[0m\u001b[0;34m.\u001b[0m\u001b[0msummary\u001b[0m\u001b[0;34m(\u001b[0m\u001b[0;34m)\u001b[0m\u001b[0;34m\u001b[0m\u001b[0m\n",
      "\u001b[0;32m/Users/russellsasaki/anaconda/lib/python2.7/site-packages/statsmodels/discrete/discrete_model.pyc\u001b[0m in \u001b[0;36mfit\u001b[0;34m(self, start_params, method, maxiter, full_output, disp, callback, **kwargs)\u001b[0m\n\u001b[1;32m   1374\u001b[0m         bnryfit = super(Logit, self).fit(start_params=start_params,\n\u001b[1;32m   1375\u001b[0m                 \u001b[0mmethod\u001b[0m\u001b[0;34m=\u001b[0m\u001b[0mmethod\u001b[0m\u001b[0;34m,\u001b[0m \u001b[0mmaxiter\u001b[0m\u001b[0;34m=\u001b[0m\u001b[0mmaxiter\u001b[0m\u001b[0;34m,\u001b[0m \u001b[0mfull_output\u001b[0m\u001b[0;34m=\u001b[0m\u001b[0mfull_output\u001b[0m\u001b[0;34m,\u001b[0m\u001b[0;34m\u001b[0m\u001b[0m\n\u001b[0;32m-> 1376\u001b[0;31m                 disp=disp, callback=callback, **kwargs)\n\u001b[0m\u001b[1;32m   1377\u001b[0m \u001b[0;34m\u001b[0m\u001b[0m\n\u001b[1;32m   1378\u001b[0m         \u001b[0mdiscretefit\u001b[0m \u001b[0;34m=\u001b[0m \u001b[0mLogitResults\u001b[0m\u001b[0;34m(\u001b[0m\u001b[0mself\u001b[0m\u001b[0;34m,\u001b[0m \u001b[0mbnryfit\u001b[0m\u001b[0;34m)\u001b[0m\u001b[0;34m\u001b[0m\u001b[0m\n",
      "\u001b[0;32m/Users/russellsasaki/anaconda/lib/python2.7/site-packages/statsmodels/discrete/discrete_model.pyc\u001b[0m in \u001b[0;36mfit\u001b[0;34m(self, start_params, method, maxiter, full_output, disp, callback, **kwargs)\u001b[0m\n\u001b[1;32m    201\u001b[0m         mlefit = super(DiscreteModel, self).fit(start_params=start_params,\n\u001b[1;32m    202\u001b[0m                 \u001b[0mmethod\u001b[0m\u001b[0;34m=\u001b[0m\u001b[0mmethod\u001b[0m\u001b[0;34m,\u001b[0m \u001b[0mmaxiter\u001b[0m\u001b[0;34m=\u001b[0m\u001b[0mmaxiter\u001b[0m\u001b[0;34m,\u001b[0m \u001b[0mfull_output\u001b[0m\u001b[0;34m=\u001b[0m\u001b[0mfull_output\u001b[0m\u001b[0;34m,\u001b[0m\u001b[0;34m\u001b[0m\u001b[0m\n\u001b[0;32m--> 203\u001b[0;31m                 disp=disp, callback=callback, **kwargs)\n\u001b[0m\u001b[1;32m    204\u001b[0m \u001b[0;34m\u001b[0m\u001b[0m\n\u001b[1;32m    205\u001b[0m         \u001b[0;32mreturn\u001b[0m \u001b[0mmlefit\u001b[0m \u001b[0;31m# up to subclasses to wrap results\u001b[0m\u001b[0;34m\u001b[0m\u001b[0m\n",
      "\u001b[0;32m/Users/russellsasaki/anaconda/lib/python2.7/site-packages/statsmodels/base/model.pyc\u001b[0m in \u001b[0;36mfit\u001b[0;34m(self, start_params, method, maxiter, full_output, disp, fargs, callback, retall, skip_hessian, **kwargs)\u001b[0m\n\u001b[1;32m    432\u001b[0m             \u001b[0mHinv\u001b[0m \u001b[0;34m=\u001b[0m \u001b[0mcov_params_func\u001b[0m\u001b[0;34m(\u001b[0m\u001b[0mself\u001b[0m\u001b[0;34m,\u001b[0m \u001b[0mxopt\u001b[0m\u001b[0;34m,\u001b[0m \u001b[0mretvals\u001b[0m\u001b[0;34m)\u001b[0m\u001b[0;34m\u001b[0m\u001b[0m\n\u001b[1;32m    433\u001b[0m         \u001b[0;32melif\u001b[0m \u001b[0mmethod\u001b[0m \u001b[0;34m==\u001b[0m \u001b[0;34m'newton'\u001b[0m \u001b[0;32mand\u001b[0m \u001b[0mfull_output\u001b[0m\u001b[0;34m:\u001b[0m\u001b[0;34m\u001b[0m\u001b[0m\n\u001b[0;32m--> 434\u001b[0;31m             \u001b[0mHinv\u001b[0m \u001b[0;34m=\u001b[0m \u001b[0mnp\u001b[0m\u001b[0;34m.\u001b[0m\u001b[0mlinalg\u001b[0m\u001b[0;34m.\u001b[0m\u001b[0minv\u001b[0m\u001b[0;34m(\u001b[0m\u001b[0;34m-\u001b[0m\u001b[0mretvals\u001b[0m\u001b[0;34m[\u001b[0m\u001b[0;34m'Hessian'\u001b[0m\u001b[0;34m]\u001b[0m\u001b[0;34m)\u001b[0m \u001b[0;34m/\u001b[0m \u001b[0mnobs\u001b[0m\u001b[0;34m\u001b[0m\u001b[0m\n\u001b[0m\u001b[1;32m    435\u001b[0m         \u001b[0;32melif\u001b[0m \u001b[0;32mnot\u001b[0m \u001b[0mskip_hessian\u001b[0m\u001b[0;34m:\u001b[0m\u001b[0;34m\u001b[0m\u001b[0m\n\u001b[1;32m    436\u001b[0m             \u001b[0;32mtry\u001b[0m\u001b[0;34m:\u001b[0m\u001b[0;34m\u001b[0m\u001b[0m\n",
      "\u001b[0;32m/Users/russellsasaki/anaconda/lib/python2.7/site-packages/numpy/linalg/linalg.pyc\u001b[0m in \u001b[0;36minv\u001b[0;34m(a)\u001b[0m\n\u001b[1;32m    524\u001b[0m     \u001b[0msignature\u001b[0m \u001b[0;34m=\u001b[0m \u001b[0;34m'D->D'\u001b[0m \u001b[0;32mif\u001b[0m \u001b[0misComplexType\u001b[0m\u001b[0;34m(\u001b[0m\u001b[0mt\u001b[0m\u001b[0;34m)\u001b[0m \u001b[0;32melse\u001b[0m \u001b[0;34m'd->d'\u001b[0m\u001b[0;34m\u001b[0m\u001b[0m\n\u001b[1;32m    525\u001b[0m     \u001b[0mextobj\u001b[0m \u001b[0;34m=\u001b[0m \u001b[0mget_linalg_error_extobj\u001b[0m\u001b[0;34m(\u001b[0m\u001b[0m_raise_linalgerror_singular\u001b[0m\u001b[0;34m)\u001b[0m\u001b[0;34m\u001b[0m\u001b[0m\n\u001b[0;32m--> 526\u001b[0;31m     \u001b[0mainv\u001b[0m \u001b[0;34m=\u001b[0m \u001b[0m_umath_linalg\u001b[0m\u001b[0;34m.\u001b[0m\u001b[0minv\u001b[0m\u001b[0;34m(\u001b[0m\u001b[0ma\u001b[0m\u001b[0;34m,\u001b[0m \u001b[0msignature\u001b[0m\u001b[0;34m=\u001b[0m\u001b[0msignature\u001b[0m\u001b[0;34m,\u001b[0m \u001b[0mextobj\u001b[0m\u001b[0;34m=\u001b[0m\u001b[0mextobj\u001b[0m\u001b[0;34m)\u001b[0m\u001b[0;34m\u001b[0m\u001b[0m\n\u001b[0m\u001b[1;32m    527\u001b[0m     \u001b[0;32mreturn\u001b[0m \u001b[0mwrap\u001b[0m\u001b[0;34m(\u001b[0m\u001b[0mainv\u001b[0m\u001b[0;34m.\u001b[0m\u001b[0mastype\u001b[0m\u001b[0;34m(\u001b[0m\u001b[0mresult_t\u001b[0m\u001b[0;34m,\u001b[0m \u001b[0mcopy\u001b[0m\u001b[0;34m=\u001b[0m\u001b[0mFalse\u001b[0m\u001b[0;34m)\u001b[0m\u001b[0;34m)\u001b[0m\u001b[0;34m\u001b[0m\u001b[0m\n\u001b[1;32m    528\u001b[0m \u001b[0;34m\u001b[0m\u001b[0m\n",
      "\u001b[0;32m/Users/russellsasaki/anaconda/lib/python2.7/site-packages/numpy/linalg/linalg.pyc\u001b[0m in \u001b[0;36m_raise_linalgerror_singular\u001b[0;34m(err, flag)\u001b[0m\n\u001b[1;32m     88\u001b[0m \u001b[0;34m\u001b[0m\u001b[0m\n\u001b[1;32m     89\u001b[0m \u001b[0;32mdef\u001b[0m \u001b[0m_raise_linalgerror_singular\u001b[0m\u001b[0;34m(\u001b[0m\u001b[0merr\u001b[0m\u001b[0;34m,\u001b[0m \u001b[0mflag\u001b[0m\u001b[0;34m)\u001b[0m\u001b[0;34m:\u001b[0m\u001b[0;34m\u001b[0m\u001b[0m\n\u001b[0;32m---> 90\u001b[0;31m     \u001b[0;32mraise\u001b[0m \u001b[0mLinAlgError\u001b[0m\u001b[0;34m(\u001b[0m\u001b[0;34m\"Singular matrix\"\u001b[0m\u001b[0;34m)\u001b[0m\u001b[0;34m\u001b[0m\u001b[0m\n\u001b[0m\u001b[1;32m     91\u001b[0m \u001b[0;34m\u001b[0m\u001b[0m\n\u001b[1;32m     92\u001b[0m \u001b[0;32mdef\u001b[0m \u001b[0m_raise_linalgerror_nonposdef\u001b[0m\u001b[0;34m(\u001b[0m\u001b[0merr\u001b[0m\u001b[0;34m,\u001b[0m \u001b[0mflag\u001b[0m\u001b[0;34m)\u001b[0m\u001b[0;34m:\u001b[0m\u001b[0;34m\u001b[0m\u001b[0m\n",
      "\u001b[0;31mLinAlgError\u001b[0m: Singular matrix"
     ]
    }
   ],
   "source": [
    "import statsmodels.api as sm\n",
    "logit_model=sm.Logit(y,X)\n",
    "result=logit_model.fit()\n",
    "print result.summary()"
   ]
  },
  {
   "cell_type": "code",
   "execution_count": null,
   "metadata": {
    "collapsed": false
   },
   "outputs": [],
   "source": [
    "from sklearn import linear_model\n",
    "indeed_lm = linear_model.LogisticRegression()\n",
    "indeed_lm.fit(X, y)"
   ]
  },
  {
   "cell_type": "code",
   "execution_count": null,
   "metadata": {
    "collapsed": true
   },
   "outputs": [],
   "source": [
    "from sklearn.model_selection import train_test_split\n",
    "X_train, X_test, y_train, y_test = train_test_split(X, y, test_size=0.3, random_state=0)"
   ]
  },
  {
   "cell_type": "code",
   "execution_count": null,
   "metadata": {
    "collapsed": false
   },
   "outputs": [],
   "source": [
    "from sklearn import linear_model\n",
    "from sklearn import metrics\n",
    "indeed_lm2 = linear_model.LogisticRegression()\n",
    "indeed_lm2.fit(X_train, y_train)"
   ]
  },
  {
   "cell_type": "code",
   "execution_count": null,
   "metadata": {
    "collapsed": true
   },
   "outputs": [],
   "source": [
    "probs = indeed_lm2.predict_proba(X_test)"
   ]
  },
  {
   "cell_type": "code",
   "execution_count": null,
   "metadata": {
    "collapsed": false
   },
   "outputs": [],
   "source": [
    "probs[:5]"
   ]
  },
  {
   "cell_type": "code",
   "execution_count": null,
   "metadata": {
    "collapsed": false
   },
   "outputs": [],
   "source": [
    "predicted = indeed_lm2.predict(X_test)\n",
    "predicted[:5]"
   ]
  },
  {
   "cell_type": "code",
   "execution_count": null,
   "metadata": {
    "collapsed": false
   },
   "outputs": [],
   "source": [
    "import numpy as np\n",
    "prob=probs[:,1]\n",
    "prob_df=pd.DataFrame(prob)\n",
    "prob_df['predict']=np.where(prob_df[0]>=0.10,1,0)\n",
    "prob_df.head()"
   ]
  },
  {
   "cell_type": "code",
   "execution_count": null,
   "metadata": {
    "collapsed": false
   },
   "outputs": [],
   "source": [
    "prob_df.predict.mean()"
   ]
  },
  {
   "cell_type": "code",
   "execution_count": 179,
   "metadata": {
    "collapsed": false
   },
   "outputs": [
    {
     "data": {
      "text/plain": [
       "0.5327868852459017"
      ]
     },
     "execution_count": 179,
     "metadata": {},
     "output_type": "execute_result"
    }
   ],
   "source": [
    "prob_df['predict']=np.where(prob_df[0]>=0.15,1,0)\n",
    "prob_df.predict.mean()"
   ]
  },
  {
   "cell_type": "code",
   "execution_count": 180,
   "metadata": {
    "collapsed": false
   },
   "outputs": [
    {
     "data": {
      "text/html": [
       "<div>\n",
       "<table border=\"1\" class=\"dataframe\">\n",
       "  <thead>\n",
       "    <tr style=\"text-align: right;\">\n",
       "      <th></th>\n",
       "      <th>0</th>\n",
       "      <th>predict</th>\n",
       "      <th>actual</th>\n",
       "    </tr>\n",
       "  </thead>\n",
       "  <tbody>\n",
       "    <tr>\n",
       "      <th>0</th>\n",
       "      <td>0.049769</td>\n",
       "      <td>0</td>\n",
       "      <td>0.0</td>\n",
       "    </tr>\n",
       "    <tr>\n",
       "      <th>1</th>\n",
       "      <td>0.049769</td>\n",
       "      <td>0</td>\n",
       "      <td>0.0</td>\n",
       "    </tr>\n",
       "    <tr>\n",
       "      <th>2</th>\n",
       "      <td>0.963842</td>\n",
       "      <td>1</td>\n",
       "      <td>1.0</td>\n",
       "    </tr>\n",
       "    <tr>\n",
       "      <th>3</th>\n",
       "      <td>0.945377</td>\n",
       "      <td>1</td>\n",
       "      <td>1.0</td>\n",
       "    </tr>\n",
       "    <tr>\n",
       "      <th>4</th>\n",
       "      <td>0.049769</td>\n",
       "      <td>0</td>\n",
       "      <td>0.0</td>\n",
       "    </tr>\n",
       "  </tbody>\n",
       "</table>\n",
       "</div>"
      ],
      "text/plain": [
       "          0  predict  actual\n",
       "0  0.049769        0     0.0\n",
       "1  0.049769        0     0.0\n",
       "2  0.963842        1     1.0\n",
       "3  0.945377        1     1.0\n",
       "4  0.049769        0     0.0"
      ]
     },
     "execution_count": 180,
     "metadata": {},
     "output_type": "execute_result"
    }
   ],
   "source": [
    "prob=probs[:,1]\n",
    "prob_df=pd.DataFrame(prob)\n",
    "prob_df['predict']=np.where(prob_df[0]>=0.05,1,0)\n",
    "prob_df\n",
    "prob_df['actual']=y_test.values\n",
    "prob_df.head()"
   ]
  },
  {
   "cell_type": "code",
   "execution_count": 181,
   "metadata": {
    "collapsed": false
   },
   "outputs": [
    {
     "data": {
      "text/html": [
       "<div>\n",
       "<table border=\"1\" class=\"dataframe\">\n",
       "  <thead>\n",
       "    <tr style=\"text-align: right;\">\n",
       "      <th>predict</th>\n",
       "      <th>0</th>\n",
       "      <th>1</th>\n",
       "    </tr>\n",
       "    <tr>\n",
       "      <th>actual</th>\n",
       "      <th></th>\n",
       "      <th></th>\n",
       "    </tr>\n",
       "  </thead>\n",
       "  <tbody>\n",
       "    <tr>\n",
       "      <th>0.0</th>\n",
       "      <td>56</td>\n",
       "      <td>1</td>\n",
       "    </tr>\n",
       "    <tr>\n",
       "      <th>1.0</th>\n",
       "      <td>0</td>\n",
       "      <td>65</td>\n",
       "    </tr>\n",
       "  </tbody>\n",
       "</table>\n",
       "</div>"
      ],
      "text/plain": [
       "predict   0   1\n",
       "actual         \n",
       "0.0      56   1\n",
       "1.0       0  65"
      ]
     },
     "execution_count": 181,
     "metadata": {},
     "output_type": "execute_result"
    }
   ],
   "source": [
    "confusion_matrix=pd.crosstab(prob_df['actual'],prob_df['predict'])\n",
    "confusion_matrix"
   ]
  },
  {
   "cell_type": "code",
   "execution_count": 182,
   "metadata": {
    "collapsed": false,
    "scrolled": true
   },
   "outputs": [
    {
     "data": {
      "text/html": [
       "<div>\n",
       "<table border=\"1\" class=\"dataframe\">\n",
       "  <thead>\n",
       "    <tr style=\"text-align: right;\">\n",
       "      <th>predict</th>\n",
       "      <th>0</th>\n",
       "      <th>1</th>\n",
       "    </tr>\n",
       "    <tr>\n",
       "      <th>actual</th>\n",
       "      <th></th>\n",
       "      <th></th>\n",
       "    </tr>\n",
       "  </thead>\n",
       "  <tbody>\n",
       "    <tr>\n",
       "      <th>0.0</th>\n",
       "      <td>57</td>\n",
       "      <td>0</td>\n",
       "    </tr>\n",
       "    <tr>\n",
       "      <th>1.0</th>\n",
       "      <td>0</td>\n",
       "      <td>65</td>\n",
       "    </tr>\n",
       "  </tbody>\n",
       "</table>\n",
       "</div>"
      ],
      "text/plain": [
       "predict   0   1\n",
       "actual         \n",
       "0.0      57   0\n",
       "1.0       0  65"
      ]
     },
     "execution_count": 182,
     "metadata": {},
     "output_type": "execute_result"
    }
   ],
   "source": [
    "prob=probs[:,1]\n",
    "prob_df=pd.DataFrame(prob)\n",
    "prob_df['predict']=np.where(prob_df[0]>=0.10,1,0)\n",
    "prob_df\n",
    "prob_df['actual']=y_test.values\n",
    "confusion_matrix=pd.crosstab(prob_df['actual'],prob_df['predict'])\n",
    "confusion_matrix"
   ]
  },
  {
   "cell_type": "markdown",
   "metadata": {},
   "source": [
    "### The salary and job title seem to correlate very well with each other. I beleive that this sample size needs to be expanded to be able to have more job titles that are similar to each other."
   ]
  },
  {
   "cell_type": "markdown",
   "metadata": {},
   "source": [
    "# Done by city"
   ]
  },
  {
   "cell_type": "code",
   "execution_count": 183,
   "metadata": {
    "collapsed": true
   },
   "outputs": [],
   "source": [
    "indeed_city=pd.read_csv('../assets/indeed-scraped-job-postings.csv')"
   ]
  },
  {
   "cell_type": "code",
   "execution_count": 184,
   "metadata": {
    "collapsed": true
   },
   "outputs": [
    {
     "data": {
      "text/html": [
       "<div>\n",
       "<table border=\"1\" class=\"dataframe\">\n",
       "  <thead>\n",
       "    <tr style=\"text-align: right;\">\n",
       "      <th></th>\n",
       "      <th>city</th>\n",
       "      <th>company</th>\n",
       "      <th>salary</th>\n",
       "      <th>summary</th>\n",
       "      <th>title</th>\n",
       "      <th>parsed_salary</th>\n",
       "    </tr>\n",
       "  </thead>\n",
       "  <tbody>\n",
       "    <tr>\n",
       "      <th>0</th>\n",
       "      <td>Denver</td>\n",
       "      <td>Department Of The Interior</td>\n",
       "      <td>$76,341 - $99,243 a year</td>\n",
       "      <td>Would you like to join the more than 10,000 sc...</td>\n",
       "      <td>Statistician, GS-1350-12 (DEU-PERM-DS)</td>\n",
       "      <td>87792.0</td>\n",
       "    </tr>\n",
       "    <tr>\n",
       "      <th>1</th>\n",
       "      <td>Denver</td>\n",
       "      <td>Department Of The Interior</td>\n",
       "      <td>$71,012 - $99,243 a year</td>\n",
       "      <td>Investigate potential uses of geospatial data ...</td>\n",
       "      <td>Interdisciplinary Cartographer/Geographer - GS...</td>\n",
       "      <td>85127.5</td>\n",
       "    </tr>\n",
       "    <tr>\n",
       "      <th>2</th>\n",
       "      <td>Denver</td>\n",
       "      <td>Mental Health Center of Denver</td>\n",
       "      <td>$70,000 - $80,000 a year</td>\n",
       "      <td>Advise the Data Developer with regard to creat...</td>\n",
       "      <td>Financial Data Scientist</td>\n",
       "      <td>75000.0</td>\n",
       "    </tr>\n",
       "    <tr>\n",
       "      <th>3</th>\n",
       "      <td>Denver</td>\n",
       "      <td>Denver Public Schools</td>\n",
       "      <td>$62,712 - $75,255 a year</td>\n",
       "      <td>Portal managers on student outcome data report...</td>\n",
       "      <td>SENIOR RESEARCH ANALYST</td>\n",
       "      <td>68983.5</td>\n",
       "    </tr>\n",
       "    <tr>\n",
       "      <th>4</th>\n",
       "      <td>Denver</td>\n",
       "      <td>University of Colorado</td>\n",
       "      <td>$25,000 - $29,000 a year</td>\n",
       "      <td>Experience entering and manipulating data in a...</td>\n",
       "      <td>Animal Care I</td>\n",
       "      <td>27000.0</td>\n",
       "    </tr>\n",
       "  </tbody>\n",
       "</table>\n",
       "</div>"
      ],
      "text/plain": [
       "     city                         company                    salary  \\\n",
       "0  Denver      Department Of The Interior  $76,341 - $99,243 a year   \n",
       "1  Denver      Department Of The Interior  $71,012 - $99,243 a year   \n",
       "2  Denver  Mental Health Center of Denver  $70,000 - $80,000 a year   \n",
       "3  Denver           Denver Public Schools  $62,712 - $75,255 a year   \n",
       "4  Denver          University of Colorado  $25,000 - $29,000 a year   \n",
       "\n",
       "                                             summary  \\\n",
       "0  Would you like to join the more than 10,000 sc...   \n",
       "1  Investigate potential uses of geospatial data ...   \n",
       "2  Advise the Data Developer with regard to creat...   \n",
       "3  Portal managers on student outcome data report...   \n",
       "4  Experience entering and manipulating data in a...   \n",
       "\n",
       "                                               title  parsed_salary  \n",
       "0             Statistician, GS-1350-12 (DEU-PERM-DS)        87792.0  \n",
       "1  Interdisciplinary Cartographer/Geographer - GS...        85127.5  \n",
       "2                           Financial Data Scientist        75000.0  \n",
       "3                            SENIOR RESEARCH ANALYST        68983.5  \n",
       "4                                      Animal Care I        27000.0  "
      ]
     },
     "execution_count": 184,
     "metadata": {},
     "output_type": "execute_result"
    }
   ],
   "source": [
    "indeed_city.head()"
   ]
  },
  {
   "cell_type": "code",
   "execution_count": 185,
   "metadata": {
    "collapsed": true
   },
   "outputs": [],
   "source": [
    "indeed_city['good_salary']=(indeed_city['parsed_salary']>= 87792.0)"
   ]
  },
  {
   "cell_type": "code",
   "execution_count": 186,
   "metadata": {
    "collapsed": true
   },
   "outputs": [],
   "source": [
    "indeed_city2=pd.get_dummies(indeed_city['good_salary'], prefix='good_salary')\n",
    "indeed_city3=indeed_city.join(indeed_city2)\n",
    "indeed_city=indeed_city3"
   ]
  },
  {
   "cell_type": "code",
   "execution_count": 187,
   "metadata": {
    "collapsed": true
   },
   "outputs": [],
   "source": [
    "indeed_city.dropna(inplace=True)"
   ]
  },
  {
   "cell_type": "code",
   "execution_count": 188,
   "metadata": {
    "collapsed": true
   },
   "outputs": [],
   "source": [
    "catvars=['city']\n",
    "for var in catvars:\n",
    "   catlist='var'+'_'+var\n",
    "   catlist = pd.get_dummies(indeed_city[var], prefix=var)\n",
    "   indeed_city5=indeed_city.join(catlist)\n",
    "   indeed_city=indeed_city5"
   ]
  },
  {
   "cell_type": "code",
   "execution_count": 189,
   "metadata": {
    "collapsed": true
   },
   "outputs": [
    {
     "data": {
      "text/html": [
       "<div>\n",
       "<table border=\"1\" class=\"dataframe\">\n",
       "  <thead>\n",
       "    <tr style=\"text-align: right;\">\n",
       "      <th></th>\n",
       "      <th>city</th>\n",
       "      <th>company</th>\n",
       "      <th>salary</th>\n",
       "      <th>summary</th>\n",
       "      <th>title</th>\n",
       "      <th>parsed_salary</th>\n",
       "      <th>good_salary</th>\n",
       "      <th>good_salary_False</th>\n",
       "      <th>good_salary_True</th>\n",
       "      <th>city_Atlanta</th>\n",
       "      <th>...</th>\n",
       "      <th>city_Miami</th>\n",
       "      <th>city_New+York</th>\n",
       "      <th>city_Palo+Alto</th>\n",
       "      <th>city_Philadelphia</th>\n",
       "      <th>city_Phoenix</th>\n",
       "      <th>city_Pittsburgh</th>\n",
       "      <th>city_Portland</th>\n",
       "      <th>city_San+Diego</th>\n",
       "      <th>city_San+Francisco</th>\n",
       "      <th>city_Seattle</th>\n",
       "    </tr>\n",
       "  </thead>\n",
       "  <tbody>\n",
       "    <tr>\n",
       "      <th>0</th>\n",
       "      <td>Denver</td>\n",
       "      <td>Department Of The Interior</td>\n",
       "      <td>$76,341 - $99,243 a year</td>\n",
       "      <td>Would you like to join the more than 10,000 sc...</td>\n",
       "      <td>Statistician, GS-1350-12 (DEU-PERM-DS)</td>\n",
       "      <td>87792.0</td>\n",
       "      <td>True</td>\n",
       "      <td>0.0</td>\n",
       "      <td>1.0</td>\n",
       "      <td>0.0</td>\n",
       "      <td>...</td>\n",
       "      <td>0.0</td>\n",
       "      <td>0.0</td>\n",
       "      <td>0.0</td>\n",
       "      <td>0.0</td>\n",
       "      <td>0.0</td>\n",
       "      <td>0.0</td>\n",
       "      <td>0.0</td>\n",
       "      <td>0.0</td>\n",
       "      <td>0.0</td>\n",
       "      <td>0.0</td>\n",
       "    </tr>\n",
       "    <tr>\n",
       "      <th>1</th>\n",
       "      <td>Denver</td>\n",
       "      <td>Department Of The Interior</td>\n",
       "      <td>$71,012 - $99,243 a year</td>\n",
       "      <td>Investigate potential uses of geospatial data ...</td>\n",
       "      <td>Interdisciplinary Cartographer/Geographer - GS...</td>\n",
       "      <td>85127.5</td>\n",
       "      <td>False</td>\n",
       "      <td>1.0</td>\n",
       "      <td>0.0</td>\n",
       "      <td>0.0</td>\n",
       "      <td>...</td>\n",
       "      <td>0.0</td>\n",
       "      <td>0.0</td>\n",
       "      <td>0.0</td>\n",
       "      <td>0.0</td>\n",
       "      <td>0.0</td>\n",
       "      <td>0.0</td>\n",
       "      <td>0.0</td>\n",
       "      <td>0.0</td>\n",
       "      <td>0.0</td>\n",
       "      <td>0.0</td>\n",
       "    </tr>\n",
       "    <tr>\n",
       "      <th>2</th>\n",
       "      <td>Denver</td>\n",
       "      <td>Mental Health Center of Denver</td>\n",
       "      <td>$70,000 - $80,000 a year</td>\n",
       "      <td>Advise the Data Developer with regard to creat...</td>\n",
       "      <td>Financial Data Scientist</td>\n",
       "      <td>75000.0</td>\n",
       "      <td>False</td>\n",
       "      <td>1.0</td>\n",
       "      <td>0.0</td>\n",
       "      <td>0.0</td>\n",
       "      <td>...</td>\n",
       "      <td>0.0</td>\n",
       "      <td>0.0</td>\n",
       "      <td>0.0</td>\n",
       "      <td>0.0</td>\n",
       "      <td>0.0</td>\n",
       "      <td>0.0</td>\n",
       "      <td>0.0</td>\n",
       "      <td>0.0</td>\n",
       "      <td>0.0</td>\n",
       "      <td>0.0</td>\n",
       "    </tr>\n",
       "    <tr>\n",
       "      <th>3</th>\n",
       "      <td>Denver</td>\n",
       "      <td>Denver Public Schools</td>\n",
       "      <td>$62,712 - $75,255 a year</td>\n",
       "      <td>Portal managers on student outcome data report...</td>\n",
       "      <td>SENIOR RESEARCH ANALYST</td>\n",
       "      <td>68983.5</td>\n",
       "      <td>False</td>\n",
       "      <td>1.0</td>\n",
       "      <td>0.0</td>\n",
       "      <td>0.0</td>\n",
       "      <td>...</td>\n",
       "      <td>0.0</td>\n",
       "      <td>0.0</td>\n",
       "      <td>0.0</td>\n",
       "      <td>0.0</td>\n",
       "      <td>0.0</td>\n",
       "      <td>0.0</td>\n",
       "      <td>0.0</td>\n",
       "      <td>0.0</td>\n",
       "      <td>0.0</td>\n",
       "      <td>0.0</td>\n",
       "    </tr>\n",
       "    <tr>\n",
       "      <th>4</th>\n",
       "      <td>Denver</td>\n",
       "      <td>University of Colorado</td>\n",
       "      <td>$25,000 - $29,000 a year</td>\n",
       "      <td>Experience entering and manipulating data in a...</td>\n",
       "      <td>Animal Care I</td>\n",
       "      <td>27000.0</td>\n",
       "      <td>False</td>\n",
       "      <td>1.0</td>\n",
       "      <td>0.0</td>\n",
       "      <td>0.0</td>\n",
       "      <td>...</td>\n",
       "      <td>0.0</td>\n",
       "      <td>0.0</td>\n",
       "      <td>0.0</td>\n",
       "      <td>0.0</td>\n",
       "      <td>0.0</td>\n",
       "      <td>0.0</td>\n",
       "      <td>0.0</td>\n",
       "      <td>0.0</td>\n",
       "      <td>0.0</td>\n",
       "      <td>0.0</td>\n",
       "    </tr>\n",
       "  </tbody>\n",
       "</table>\n",
       "<p>5 rows × 27 columns</p>\n",
       "</div>"
      ],
      "text/plain": [
       "     city                         company                    salary  \\\n",
       "0  Denver      Department Of The Interior  $76,341 - $99,243 a year   \n",
       "1  Denver      Department Of The Interior  $71,012 - $99,243 a year   \n",
       "2  Denver  Mental Health Center of Denver  $70,000 - $80,000 a year   \n",
       "3  Denver           Denver Public Schools  $62,712 - $75,255 a year   \n",
       "4  Denver          University of Colorado  $25,000 - $29,000 a year   \n",
       "\n",
       "                                             summary  \\\n",
       "0  Would you like to join the more than 10,000 sc...   \n",
       "1  Investigate potential uses of geospatial data ...   \n",
       "2  Advise the Data Developer with regard to creat...   \n",
       "3  Portal managers on student outcome data report...   \n",
       "4  Experience entering and manipulating data in a...   \n",
       "\n",
       "                                               title  parsed_salary  \\\n",
       "0             Statistician, GS-1350-12 (DEU-PERM-DS)        87792.0   \n",
       "1  Interdisciplinary Cartographer/Geographer - GS...        85127.5   \n",
       "2                           Financial Data Scientist        75000.0   \n",
       "3                            SENIOR RESEARCH ANALYST        68983.5   \n",
       "4                                      Animal Care I        27000.0   \n",
       "\n",
       "  good_salary  good_salary_False  good_salary_True  city_Atlanta  \\\n",
       "0        True                0.0               1.0           0.0   \n",
       "1       False                1.0               0.0           0.0   \n",
       "2       False                1.0               0.0           0.0   \n",
       "3       False                1.0               0.0           0.0   \n",
       "4       False                1.0               0.0           0.0   \n",
       "\n",
       "       ...       city_Miami  city_New+York  city_Palo+Alto  city_Philadelphia  \\\n",
       "0      ...              0.0            0.0             0.0                0.0   \n",
       "1      ...              0.0            0.0             0.0                0.0   \n",
       "2      ...              0.0            0.0             0.0                0.0   \n",
       "3      ...              0.0            0.0             0.0                0.0   \n",
       "4      ...              0.0            0.0             0.0                0.0   \n",
       "\n",
       "   city_Phoenix  city_Pittsburgh  city_Portland  city_San+Diego  \\\n",
       "0           0.0              0.0            0.0             0.0   \n",
       "1           0.0              0.0            0.0             0.0   \n",
       "2           0.0              0.0            0.0             0.0   \n",
       "3           0.0              0.0            0.0             0.0   \n",
       "4           0.0              0.0            0.0             0.0   \n",
       "\n",
       "   city_San+Francisco  city_Seattle  \n",
       "0                 0.0           0.0  \n",
       "1                 0.0           0.0  \n",
       "2                 0.0           0.0  \n",
       "3                 0.0           0.0  \n",
       "4                 0.0           0.0  \n",
       "\n",
       "[5 rows x 27 columns]"
      ]
     },
     "execution_count": 189,
     "metadata": {},
     "output_type": "execute_result"
    }
   ],
   "source": [
    "indeed_city.head()"
   ]
  },
  {
   "cell_type": "code",
   "execution_count": 190,
   "metadata": {
    "collapsed": false
   },
   "outputs": [],
   "source": [
    "del indeed_city['title']\n",
    "del indeed_city['company']\n",
    "del indeed_city['salary']\n",
    "del indeed_city['summary']\n",
    "del indeed_city['good_salary']\n",
    "del indeed_city['parsed_salary']"
   ]
  },
  {
   "cell_type": "code",
   "execution_count": 191,
   "metadata": {
    "collapsed": false
   },
   "outputs": [],
   "source": [
    "catvars=['city']\n",
    "city_vars=indeed_city.columns.values.tolist()\n",
    "tokeep=[i for i in city_vars if i not in catvars]\n"
   ]
  },
  {
   "cell_type": "code",
   "execution_count": 192,
   "metadata": {
    "collapsed": false
   },
   "outputs": [
    {
     "data": {
      "text/plain": [
       "array(['good_salary_False', 'good_salary_True', 'city_Atlanta',\n",
       "       'city_Austin', 'city_Boston', 'city_Chicago', 'city_Dallas',\n",
       "       'city_Denver', 'city_Houston', 'city_Los+Angeles', 'city_Miami',\n",
       "       'city_New+York', 'city_Palo+Alto', 'city_Philadelphia',\n",
       "       'city_Phoenix', 'city_Pittsburgh', 'city_Portland',\n",
       "       'city_San+Diego', 'city_San+Francisco', 'city_Seattle'], dtype=object)"
      ]
     },
     "execution_count": 192,
     "metadata": {},
     "output_type": "execute_result"
    }
   ],
   "source": [
    "city_final=indeed_city[tokeep]\n",
    "city_final.columns.values"
   ]
  },
  {
   "cell_type": "code",
   "execution_count": 193,
   "metadata": {
    "collapsed": true
   },
   "outputs": [],
   "source": [
    "city_final_vars=city_final.columns.values.tolist()\n",
    "Y = ['good_salary_True']\n",
    "x = [i for i in city_final_vars if i not in Y ] #removes target"
   ]
  },
  {
   "cell_type": "code",
   "execution_count": 194,
   "metadata": {
    "collapsed": false,
    "scrolled": true
   },
   "outputs": [
    {
     "name": "stdout",
     "output_type": "stream",
     "text": [
      "[ True False False  True  True False False False  True False  True  True\n",
      "  True False  True False False  True  True]\n",
      "[ 1  9  6  1  1  3  5  2  1 10  1  1  1  4  1  8  7  1  1]\n"
     ]
    }
   ],
   "source": [
    "from sklearn import datasets\n",
    "from sklearn.feature_selection import RFE\n",
    "from sklearn.linear_model import LogisticRegression\n",
    "model2 = LogisticRegression()\n",
    "rfe2 = RFE(model2, 10) #5 is a random number choosing ammount of relevant features\n",
    "rfe2 = rfe2.fit(city_final[x],city_final[Y].values)\n",
    "print(rfe2.support_)\n",
    "print(rfe2.ranking_)"
   ]
  },
  {
   "cell_type": "code",
   "execution_count": 195,
   "metadata": {
    "collapsed": false
   },
   "outputs": [
    {
     "data": {
      "text/plain": [
       "LogisticRegression(C=1.0, class_weight=None, dual=False, fit_intercept=True,\n",
       "          intercept_scaling=1, max_iter=100, multi_class='ovr', n_jobs=1,\n",
       "          penalty='l2', random_state=None, solver='liblinear', tol=0.0001,\n",
       "          verbose=0, warm_start=False)"
      ]
     },
     "execution_count": 195,
     "metadata": {},
     "output_type": "execute_result"
    }
   ],
   "source": [
    "model2"
   ]
  },
  {
   "cell_type": "code",
   "execution_count": 196,
   "metadata": {
    "collapsed": false
   },
   "outputs": [
    {
     "data": {
      "text/plain": [
       "['good_salary_False',\n",
       " 'city_Boston',\n",
       " 'city_Chicago',\n",
       " 'city_Los+Angeles',\n",
       " 'city_New+York',\n",
       " 'city_Palo+Alto',\n",
       " 'city_Philadelphia',\n",
       " 'city_Pittsburgh',\n",
       " 'city_San+Francisco',\n",
       " 'city_Seattle']"
      ]
     },
     "execution_count": 196,
     "metadata": {},
     "output_type": "execute_result"
    }
   ],
   "source": [
    "cols2 = city_final[x].columns.values[rfe2.support_].tolist()\n",
    "cols2"
   ]
  },
  {
   "cell_type": "code",
   "execution_count": 197,
   "metadata": {
    "collapsed": true
   },
   "outputs": [],
   "source": [
    "x = city_final[cols2]\n",
    "Y = city_final['good_salary_True']"
   ]
  },
  {
   "cell_type": "code",
   "execution_count": 198,
   "metadata": {
    "collapsed": true
   },
   "outputs": [
    {
     "name": "stdout",
     "output_type": "stream",
     "text": [
      "Warning: Maximum number of iterations has been exceeded.\n",
      "         Current function value: inf\n",
      "         Iterations: 35\n"
     ]
    },
    {
     "ename": "LinAlgError",
     "evalue": "Singular matrix",
     "output_type": "error",
     "traceback": [
      "\u001b[0;31m---------------------------------------------------------------------------\u001b[0m",
      "\u001b[0;31mLinAlgError\u001b[0m                               Traceback (most recent call last)",
      "\u001b[0;32m<ipython-input-198-bce6377d2b1c>\u001b[0m in \u001b[0;36m<module>\u001b[0;34m()\u001b[0m\n\u001b[1;32m      1\u001b[0m \u001b[0;32mimport\u001b[0m \u001b[0mstatsmodels\u001b[0m\u001b[0;34m.\u001b[0m\u001b[0mapi\u001b[0m \u001b[0;32mas\u001b[0m \u001b[0msm\u001b[0m\u001b[0;34m\u001b[0m\u001b[0m\n\u001b[1;32m      2\u001b[0m \u001b[0mlogit_model\u001b[0m\u001b[0;34m=\u001b[0m\u001b[0msm\u001b[0m\u001b[0;34m.\u001b[0m\u001b[0mLogit\u001b[0m\u001b[0;34m(\u001b[0m\u001b[0mY\u001b[0m\u001b[0;34m,\u001b[0m\u001b[0mx\u001b[0m\u001b[0;34m)\u001b[0m\u001b[0;34m\u001b[0m\u001b[0m\n\u001b[0;32m----> 3\u001b[0;31m \u001b[0mresult\u001b[0m\u001b[0;34m=\u001b[0m\u001b[0mlogit_model\u001b[0m\u001b[0;34m.\u001b[0m\u001b[0mfit\u001b[0m\u001b[0;34m(\u001b[0m\u001b[0;34m)\u001b[0m\u001b[0;34m\u001b[0m\u001b[0m\n\u001b[0m\u001b[1;32m      4\u001b[0m \u001b[0;32mprint\u001b[0m \u001b[0mresult\u001b[0m\u001b[0;34m.\u001b[0m\u001b[0msummary\u001b[0m\u001b[0;34m(\u001b[0m\u001b[0;34m)\u001b[0m\u001b[0;34m\u001b[0m\u001b[0m\n",
      "\u001b[0;32m/Users/russellsasaki/anaconda/lib/python2.7/site-packages/statsmodels/discrete/discrete_model.pyc\u001b[0m in \u001b[0;36mfit\u001b[0;34m(self, start_params, method, maxiter, full_output, disp, callback, **kwargs)\u001b[0m\n\u001b[1;32m   1374\u001b[0m         bnryfit = super(Logit, self).fit(start_params=start_params,\n\u001b[1;32m   1375\u001b[0m                 \u001b[0mmethod\u001b[0m\u001b[0;34m=\u001b[0m\u001b[0mmethod\u001b[0m\u001b[0;34m,\u001b[0m \u001b[0mmaxiter\u001b[0m\u001b[0;34m=\u001b[0m\u001b[0mmaxiter\u001b[0m\u001b[0;34m,\u001b[0m \u001b[0mfull_output\u001b[0m\u001b[0;34m=\u001b[0m\u001b[0mfull_output\u001b[0m\u001b[0;34m,\u001b[0m\u001b[0;34m\u001b[0m\u001b[0m\n\u001b[0;32m-> 1376\u001b[0;31m                 disp=disp, callback=callback, **kwargs)\n\u001b[0m\u001b[1;32m   1377\u001b[0m \u001b[0;34m\u001b[0m\u001b[0m\n\u001b[1;32m   1378\u001b[0m         \u001b[0mdiscretefit\u001b[0m \u001b[0;34m=\u001b[0m \u001b[0mLogitResults\u001b[0m\u001b[0;34m(\u001b[0m\u001b[0mself\u001b[0m\u001b[0;34m,\u001b[0m \u001b[0mbnryfit\u001b[0m\u001b[0;34m)\u001b[0m\u001b[0;34m\u001b[0m\u001b[0m\n",
      "\u001b[0;32m/Users/russellsasaki/anaconda/lib/python2.7/site-packages/statsmodels/discrete/discrete_model.pyc\u001b[0m in \u001b[0;36mfit\u001b[0;34m(self, start_params, method, maxiter, full_output, disp, callback, **kwargs)\u001b[0m\n\u001b[1;32m    201\u001b[0m         mlefit = super(DiscreteModel, self).fit(start_params=start_params,\n\u001b[1;32m    202\u001b[0m                 \u001b[0mmethod\u001b[0m\u001b[0;34m=\u001b[0m\u001b[0mmethod\u001b[0m\u001b[0;34m,\u001b[0m \u001b[0mmaxiter\u001b[0m\u001b[0;34m=\u001b[0m\u001b[0mmaxiter\u001b[0m\u001b[0;34m,\u001b[0m \u001b[0mfull_output\u001b[0m\u001b[0;34m=\u001b[0m\u001b[0mfull_output\u001b[0m\u001b[0;34m,\u001b[0m\u001b[0;34m\u001b[0m\u001b[0m\n\u001b[0;32m--> 203\u001b[0;31m                 disp=disp, callback=callback, **kwargs)\n\u001b[0m\u001b[1;32m    204\u001b[0m \u001b[0;34m\u001b[0m\u001b[0m\n\u001b[1;32m    205\u001b[0m         \u001b[0;32mreturn\u001b[0m \u001b[0mmlefit\u001b[0m \u001b[0;31m# up to subclasses to wrap results\u001b[0m\u001b[0;34m\u001b[0m\u001b[0m\n",
      "\u001b[0;32m/Users/russellsasaki/anaconda/lib/python2.7/site-packages/statsmodels/base/model.pyc\u001b[0m in \u001b[0;36mfit\u001b[0;34m(self, start_params, method, maxiter, full_output, disp, fargs, callback, retall, skip_hessian, **kwargs)\u001b[0m\n\u001b[1;32m    432\u001b[0m             \u001b[0mHinv\u001b[0m \u001b[0;34m=\u001b[0m \u001b[0mcov_params_func\u001b[0m\u001b[0;34m(\u001b[0m\u001b[0mself\u001b[0m\u001b[0;34m,\u001b[0m \u001b[0mxopt\u001b[0m\u001b[0;34m,\u001b[0m \u001b[0mretvals\u001b[0m\u001b[0;34m)\u001b[0m\u001b[0;34m\u001b[0m\u001b[0m\n\u001b[1;32m    433\u001b[0m         \u001b[0;32melif\u001b[0m \u001b[0mmethod\u001b[0m \u001b[0;34m==\u001b[0m \u001b[0;34m'newton'\u001b[0m \u001b[0;32mand\u001b[0m \u001b[0mfull_output\u001b[0m\u001b[0;34m:\u001b[0m\u001b[0;34m\u001b[0m\u001b[0m\n\u001b[0;32m--> 434\u001b[0;31m             \u001b[0mHinv\u001b[0m \u001b[0;34m=\u001b[0m \u001b[0mnp\u001b[0m\u001b[0;34m.\u001b[0m\u001b[0mlinalg\u001b[0m\u001b[0;34m.\u001b[0m\u001b[0minv\u001b[0m\u001b[0;34m(\u001b[0m\u001b[0;34m-\u001b[0m\u001b[0mretvals\u001b[0m\u001b[0;34m[\u001b[0m\u001b[0;34m'Hessian'\u001b[0m\u001b[0;34m]\u001b[0m\u001b[0;34m)\u001b[0m \u001b[0;34m/\u001b[0m \u001b[0mnobs\u001b[0m\u001b[0;34m\u001b[0m\u001b[0m\n\u001b[0m\u001b[1;32m    435\u001b[0m         \u001b[0;32melif\u001b[0m \u001b[0;32mnot\u001b[0m \u001b[0mskip_hessian\u001b[0m\u001b[0;34m:\u001b[0m\u001b[0;34m\u001b[0m\u001b[0m\n\u001b[1;32m    436\u001b[0m             \u001b[0;32mtry\u001b[0m\u001b[0;34m:\u001b[0m\u001b[0;34m\u001b[0m\u001b[0m\n",
      "\u001b[0;32m/Users/russellsasaki/anaconda/lib/python2.7/site-packages/numpy/linalg/linalg.pyc\u001b[0m in \u001b[0;36minv\u001b[0;34m(a)\u001b[0m\n\u001b[1;32m    524\u001b[0m     \u001b[0msignature\u001b[0m \u001b[0;34m=\u001b[0m \u001b[0;34m'D->D'\u001b[0m \u001b[0;32mif\u001b[0m \u001b[0misComplexType\u001b[0m\u001b[0;34m(\u001b[0m\u001b[0mt\u001b[0m\u001b[0;34m)\u001b[0m \u001b[0;32melse\u001b[0m \u001b[0;34m'd->d'\u001b[0m\u001b[0;34m\u001b[0m\u001b[0m\n\u001b[1;32m    525\u001b[0m     \u001b[0mextobj\u001b[0m \u001b[0;34m=\u001b[0m \u001b[0mget_linalg_error_extobj\u001b[0m\u001b[0;34m(\u001b[0m\u001b[0m_raise_linalgerror_singular\u001b[0m\u001b[0;34m)\u001b[0m\u001b[0;34m\u001b[0m\u001b[0m\n\u001b[0;32m--> 526\u001b[0;31m     \u001b[0mainv\u001b[0m \u001b[0;34m=\u001b[0m \u001b[0m_umath_linalg\u001b[0m\u001b[0;34m.\u001b[0m\u001b[0minv\u001b[0m\u001b[0;34m(\u001b[0m\u001b[0ma\u001b[0m\u001b[0;34m,\u001b[0m \u001b[0msignature\u001b[0m\u001b[0;34m=\u001b[0m\u001b[0msignature\u001b[0m\u001b[0;34m,\u001b[0m \u001b[0mextobj\u001b[0m\u001b[0;34m=\u001b[0m\u001b[0mextobj\u001b[0m\u001b[0;34m)\u001b[0m\u001b[0;34m\u001b[0m\u001b[0m\n\u001b[0m\u001b[1;32m    527\u001b[0m     \u001b[0;32mreturn\u001b[0m \u001b[0mwrap\u001b[0m\u001b[0;34m(\u001b[0m\u001b[0mainv\u001b[0m\u001b[0;34m.\u001b[0m\u001b[0mastype\u001b[0m\u001b[0;34m(\u001b[0m\u001b[0mresult_t\u001b[0m\u001b[0;34m,\u001b[0m \u001b[0mcopy\u001b[0m\u001b[0;34m=\u001b[0m\u001b[0mFalse\u001b[0m\u001b[0;34m)\u001b[0m\u001b[0;34m)\u001b[0m\u001b[0;34m\u001b[0m\u001b[0m\n\u001b[1;32m    528\u001b[0m \u001b[0;34m\u001b[0m\u001b[0m\n",
      "\u001b[0;32m/Users/russellsasaki/anaconda/lib/python2.7/site-packages/numpy/linalg/linalg.pyc\u001b[0m in \u001b[0;36m_raise_linalgerror_singular\u001b[0;34m(err, flag)\u001b[0m\n\u001b[1;32m     88\u001b[0m \u001b[0;34m\u001b[0m\u001b[0m\n\u001b[1;32m     89\u001b[0m \u001b[0;32mdef\u001b[0m \u001b[0m_raise_linalgerror_singular\u001b[0m\u001b[0;34m(\u001b[0m\u001b[0merr\u001b[0m\u001b[0;34m,\u001b[0m \u001b[0mflag\u001b[0m\u001b[0;34m)\u001b[0m\u001b[0;34m:\u001b[0m\u001b[0;34m\u001b[0m\u001b[0m\n\u001b[0;32m---> 90\u001b[0;31m     \u001b[0;32mraise\u001b[0m \u001b[0mLinAlgError\u001b[0m\u001b[0;34m(\u001b[0m\u001b[0;34m\"Singular matrix\"\u001b[0m\u001b[0;34m)\u001b[0m\u001b[0;34m\u001b[0m\u001b[0m\n\u001b[0m\u001b[1;32m     91\u001b[0m \u001b[0;34m\u001b[0m\u001b[0m\n\u001b[1;32m     92\u001b[0m \u001b[0;32mdef\u001b[0m \u001b[0m_raise_linalgerror_nonposdef\u001b[0m\u001b[0;34m(\u001b[0m\u001b[0merr\u001b[0m\u001b[0;34m,\u001b[0m \u001b[0mflag\u001b[0m\u001b[0;34m)\u001b[0m\u001b[0;34m:\u001b[0m\u001b[0;34m\u001b[0m\u001b[0m\n",
      "\u001b[0;31mLinAlgError\u001b[0m: Singular matrix"
     ]
    }
   ],
   "source": [
    "import statsmodels.api as sm\n",
    "logit_model=sm.Logit(Y,x)\n",
    "result=logit_model.fit()\n",
    "print result.summary()"
   ]
  },
  {
   "cell_type": "code",
   "execution_count": 199,
   "metadata": {
    "collapsed": false
   },
   "outputs": [
    {
     "data": {
      "text/plain": [
       "LogisticRegression(C=1.0, class_weight=None, dual=False, fit_intercept=True,\n",
       "          intercept_scaling=1, max_iter=100, multi_class='ovr', n_jobs=1,\n",
       "          penalty='l2', random_state=None, solver='liblinear', tol=0.0001,\n",
       "          verbose=0, warm_start=False)"
      ]
     },
     "execution_count": 199,
     "metadata": {},
     "output_type": "execute_result"
    }
   ],
   "source": [
    "city_lm = linear_model.LogisticRegression()\n",
    "city_lm.fit(x, Y)"
   ]
  },
  {
   "cell_type": "code",
   "execution_count": 200,
   "metadata": {
    "collapsed": true
   },
   "outputs": [],
   "source": [
    "x_train, x_test, Y_train, Y_test = train_test_split(x, Y, test_size=0.3, random_state=0)"
   ]
  },
  {
   "cell_type": "code",
   "execution_count": 201,
   "metadata": {
    "collapsed": false
   },
   "outputs": [
    {
     "data": {
      "text/plain": [
       "LogisticRegression(C=1.0, class_weight=None, dual=False, fit_intercept=True,\n",
       "          intercept_scaling=1, max_iter=100, multi_class='ovr', n_jobs=1,\n",
       "          penalty='l2', random_state=None, solver='liblinear', tol=0.0001,\n",
       "          verbose=0, warm_start=False)"
      ]
     },
     "execution_count": 201,
     "metadata": {},
     "output_type": "execute_result"
    }
   ],
   "source": [
    "city_lm2 = linear_model.LogisticRegression()\n",
    "city_lm2.fit(x_train, Y_train)"
   ]
  },
  {
   "cell_type": "code",
   "execution_count": 202,
   "metadata": {
    "collapsed": true
   },
   "outputs": [],
   "source": [
    "probs2 = city_lm2.predict_proba(x_test)"
   ]
  },
  {
   "cell_type": "code",
   "execution_count": 203,
   "metadata": {
    "collapsed": false
   },
   "outputs": [
    {
     "data": {
      "text/plain": [
       "array([ 0.,  0.,  1.,  1.,  0.])"
      ]
     },
     "execution_count": 203,
     "metadata": {},
     "output_type": "execute_result"
    }
   ],
   "source": [
    "predicted2 = city_lm2.predict(x_test)\n",
    "predicted2[:5]"
   ]
  },
  {
   "cell_type": "code",
   "execution_count": 204,
   "metadata": {
    "collapsed": false
   },
   "outputs": [
    {
     "data": {
      "text/html": [
       "<div>\n",
       "<table border=\"1\" class=\"dataframe\">\n",
       "  <thead>\n",
       "    <tr style=\"text-align: right;\">\n",
       "      <th></th>\n",
       "      <th>0</th>\n",
       "      <th>predict</th>\n",
       "    </tr>\n",
       "  </thead>\n",
       "  <tbody>\n",
       "    <tr>\n",
       "      <th>0</th>\n",
       "      <td>0.050242</td>\n",
       "      <td>0</td>\n",
       "    </tr>\n",
       "    <tr>\n",
       "      <th>1</th>\n",
       "      <td>0.050242</td>\n",
       "      <td>0</td>\n",
       "    </tr>\n",
       "    <tr>\n",
       "      <th>2</th>\n",
       "      <td>0.948200</td>\n",
       "      <td>1</td>\n",
       "    </tr>\n",
       "    <tr>\n",
       "      <th>3</th>\n",
       "      <td>0.944098</td>\n",
       "      <td>1</td>\n",
       "    </tr>\n",
       "    <tr>\n",
       "      <th>4</th>\n",
       "      <td>0.040705</td>\n",
       "      <td>0</td>\n",
       "    </tr>\n",
       "  </tbody>\n",
       "</table>\n",
       "</div>"
      ],
      "text/plain": [
       "          0  predict\n",
       "0  0.050242        0\n",
       "1  0.050242        0\n",
       "2  0.948200        1\n",
       "3  0.944098        1\n",
       "4  0.040705        0"
      ]
     },
     "execution_count": 204,
     "metadata": {},
     "output_type": "execute_result"
    }
   ],
   "source": [
    "prob2=probs2[:,1]\n",
    "prob_df2=pd.DataFrame(prob2)\n",
    "prob_df2['predict']=np.where(prob_df2[0]>=0.10,1,0)\n",
    "prob_df2.head()"
   ]
  },
  {
   "cell_type": "code",
   "execution_count": 210,
   "metadata": {
    "collapsed": false
   },
   "outputs": [
    {
     "data": {
      "text/plain": [
       "0.5327868852459017"
      ]
     },
     "execution_count": 210,
     "metadata": {},
     "output_type": "execute_result"
    }
   ],
   "source": [
    "prob_df2['predict']=np.where(prob_df2[0]>=0.15,1,0)\n",
    "prob_df2.predict.mean()"
   ]
  },
  {
   "cell_type": "code",
   "execution_count": 207,
   "metadata": {
    "collapsed": false
   },
   "outputs": [
    {
     "data": {
      "text/html": [
       "<div>\n",
       "<table border=\"1\" class=\"dataframe\">\n",
       "  <thead>\n",
       "    <tr style=\"text-align: right;\">\n",
       "      <th></th>\n",
       "      <th>0</th>\n",
       "      <th>predict</th>\n",
       "      <th>actual</th>\n",
       "    </tr>\n",
       "  </thead>\n",
       "  <tbody>\n",
       "    <tr>\n",
       "      <th>0</th>\n",
       "      <td>0.050242</td>\n",
       "      <td>1</td>\n",
       "      <td>0.0</td>\n",
       "    </tr>\n",
       "    <tr>\n",
       "      <th>1</th>\n",
       "      <td>0.050242</td>\n",
       "      <td>1</td>\n",
       "      <td>0.0</td>\n",
       "    </tr>\n",
       "    <tr>\n",
       "      <th>2</th>\n",
       "      <td>0.948200</td>\n",
       "      <td>1</td>\n",
       "      <td>1.0</td>\n",
       "    </tr>\n",
       "    <tr>\n",
       "      <th>3</th>\n",
       "      <td>0.944098</td>\n",
       "      <td>1</td>\n",
       "      <td>1.0</td>\n",
       "    </tr>\n",
       "    <tr>\n",
       "      <th>4</th>\n",
       "      <td>0.040705</td>\n",
       "      <td>0</td>\n",
       "      <td>0.0</td>\n",
       "    </tr>\n",
       "  </tbody>\n",
       "</table>\n",
       "</div>"
      ],
      "text/plain": [
       "          0  predict  actual\n",
       "0  0.050242        1     0.0\n",
       "1  0.050242        1     0.0\n",
       "2  0.948200        1     1.0\n",
       "3  0.944098        1     1.0\n",
       "4  0.040705        0     0.0"
      ]
     },
     "execution_count": 207,
     "metadata": {},
     "output_type": "execute_result"
    }
   ],
   "source": [
    "prob2=probs2[:,1]\n",
    "prob_df2=pd.DataFrame(prob2)\n",
    "prob_df2['predict']=np.where(prob_df2[0]>=0.05,1,0)\n",
    "prob_df2\n",
    "prob_df2['actual']=Y_test.values\n",
    "prob_df2.head()"
   ]
  },
  {
   "cell_type": "code",
   "execution_count": 208,
   "metadata": {
    "collapsed": false
   },
   "outputs": [
    {
     "data": {
      "text/html": [
       "<div>\n",
       "<table border=\"1\" class=\"dataframe\">\n",
       "  <thead>\n",
       "    <tr style=\"text-align: right;\">\n",
       "      <th>predict</th>\n",
       "      <th>0</th>\n",
       "      <th>1</th>\n",
       "    </tr>\n",
       "    <tr>\n",
       "      <th>actual</th>\n",
       "      <th></th>\n",
       "      <th></th>\n",
       "    </tr>\n",
       "  </thead>\n",
       "  <tbody>\n",
       "    <tr>\n",
       "      <th>0.0</th>\n",
       "      <td>28</td>\n",
       "      <td>29</td>\n",
       "    </tr>\n",
       "    <tr>\n",
       "      <th>1.0</th>\n",
       "      <td>0</td>\n",
       "      <td>65</td>\n",
       "    </tr>\n",
       "  </tbody>\n",
       "</table>\n",
       "</div>"
      ],
      "text/plain": [
       "predict   0   1\n",
       "actual         \n",
       "0.0      28  29\n",
       "1.0       0  65"
      ]
     },
     "execution_count": 208,
     "metadata": {},
     "output_type": "execute_result"
    }
   ],
   "source": [
    "confusion_matrix2=pd.crosstab(prob_df2['actual'],prob_df2['predict'])\n",
    "confusion_matrix2"
   ]
  },
  {
   "cell_type": "code",
   "execution_count": 209,
   "metadata": {
    "collapsed": false
   },
   "outputs": [
    {
     "data": {
      "text/html": [
       "<div>\n",
       "<table border=\"1\" class=\"dataframe\">\n",
       "  <thead>\n",
       "    <tr style=\"text-align: right;\">\n",
       "      <th>predict</th>\n",
       "      <th>0</th>\n",
       "      <th>1</th>\n",
       "    </tr>\n",
       "    <tr>\n",
       "      <th>actual</th>\n",
       "      <th></th>\n",
       "      <th></th>\n",
       "    </tr>\n",
       "  </thead>\n",
       "  <tbody>\n",
       "    <tr>\n",
       "      <th>0.0</th>\n",
       "      <td>57</td>\n",
       "      <td>0</td>\n",
       "    </tr>\n",
       "    <tr>\n",
       "      <th>1.0</th>\n",
       "      <td>0</td>\n",
       "      <td>65</td>\n",
       "    </tr>\n",
       "  </tbody>\n",
       "</table>\n",
       "</div>"
      ],
      "text/plain": [
       "predict   0   1\n",
       "actual         \n",
       "0.0      57   0\n",
       "1.0       0  65"
      ]
     },
     "execution_count": 209,
     "metadata": {},
     "output_type": "execute_result"
    }
   ],
   "source": [
    "prob2=probs2[:,1]\n",
    "prob_df2=pd.DataFrame(prob2)\n",
    "prob_df2['predict']=np.where(prob_df2[0]>=0.10,1,0)\n",
    "prob_df2\n",
    "prob_df2['actual']=Y_test.values\n",
    "confusion_matrix2=pd.crosstab(prob_df2['actual'],prob_df2['predict'])\n",
    "confusion_matrix2"
   ]
  },
  {
   "cell_type": "markdown",
   "metadata": {},
   "source": [
    "###  It also seems that it does a very good job finding the probability of finding where good salaries would be if they were grouped by city as well."
   ]
  },
  {
   "cell_type": "code",
   "execution_count": null,
   "metadata": {
    "collapsed": true
   },
   "outputs": [],
   "source": []
  },
  {
   "cell_type": "code",
   "execution_count": null,
   "metadata": {
    "collapsed": true
   },
   "outputs": [],
   "source": []
  },
  {
   "cell_type": "code",
   "execution_count": null,
   "metadata": {
    "collapsed": true
   },
   "outputs": [],
   "source": []
  },
  {
   "cell_type": "code",
   "execution_count": null,
   "metadata": {
    "collapsed": true
   },
   "outputs": [],
   "source": []
  },
  {
   "cell_type": "code",
   "execution_count": null,
   "metadata": {
    "collapsed": true
   },
   "outputs": [],
   "source": []
  }
 ],
 "metadata": {
  "anaconda-cloud": {},
  "kernelspec": {
   "display_name": "Python [conda root]",
   "language": "python",
   "name": "conda-root-py"
  },
  "language_info": {
   "codemirror_mode": {
    "name": "ipython",
    "version": 2
   },
   "file_extension": ".py",
   "mimetype": "text/x-python",
   "name": "python",
   "nbconvert_exporter": "python",
   "pygments_lexer": "ipython2",
   "version": "2.7.12"
  }
 },
 "nbformat": 4,
 "nbformat_minor": 1
}
